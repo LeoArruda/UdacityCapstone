{
 "cells": [
  {
   "cell_type": "code",
   "execution_count": 1,
   "id": "9076194b",
   "metadata": {},
   "outputs": [],
   "source": [
    "import pandas as pd\n",
    "from pyspark.sql import SparkSession\n",
    "from pyspark.sql.types import StructField,StringType\n",
    "from pyspark.sql.types import StructType,StructField, StringType, IntegerType \n",
    "from pyspark.sql.types import ArrayType, DoubleType, BooleanType, DateType\n",
    "from pyspark.sql.functions import udf, col, array_contains, when, concat_ws, to_date, to_timestamp, lit\n",
    "from pyspark.sql.window import Window\n",
    "import pyspark.sql.functions as F"
   ]
  },
  {
   "cell_type": "code",
   "execution_count": null,
   "id": "52602f86",
   "metadata": {},
   "outputs": [],
   "source": []
  },
  {
   "cell_type": "code",
   "execution_count": 2,
   "id": "680481de",
   "metadata": {},
   "outputs": [],
   "source": [
    "spark = SparkSession \\\n",
    "        .builder \\\n",
    "        .appName(\"Spark Covid Earlier Transformations\") \\\n",
    "        .getOrCreate()"
   ]
  },
  {
   "cell_type": "code",
   "execution_count": 26,
   "id": "83f038dd",
   "metadata": {},
   "outputs": [],
   "source": [
    "# Load dataset from Johns Hopkins University Github page\n",
    "# with command pd.read_csv(\"datafile.csv\")\n",
    "#covid_daily_report = pd.read_csv(\"data/01-23-2020.csv\")\n",
    "covid_daily_report = spark.read \\\n",
    "                    .option(\"header\",True) \\\n",
    "                    .option(\"inferSchema\",True) \\\n",
    "                    .csv(\"data/*.csv\")\n",
    "\n",
    "\n",
    "#                    "
   ]
  },
  {
   "cell_type": "code",
   "execution_count": 27,
   "id": "3a8f6fc5",
   "metadata": {},
   "outputs": [],
   "source": [
    "#covid_daily_report.createOrReplaceTempView(\"cases_table\")"
   ]
  },
  {
   "cell_type": "code",
   "execution_count": 28,
   "id": "9888ea91",
   "metadata": {},
   "outputs": [
    {
     "name": "stdout",
     "output_type": "stream",
     "text": [
      "root\n",
      " |-- FIPS: string (nullable = true)\n",
      " |-- Admin2: string (nullable = true)\n",
      " |-- Province_State: string (nullable = true)\n",
      " |-- Country_Region: string (nullable = true)\n",
      " |-- Last_Update: string (nullable = true)\n",
      " |-- Lat: string (nullable = true)\n",
      " |-- Long_: string (nullable = true)\n",
      " |-- Confirmed: string (nullable = true)\n",
      " |-- Deaths: string (nullable = true)\n",
      " |-- Recovered: string (nullable = true)\n",
      " |-- Active: string (nullable = true)\n",
      " |-- Combined_Key: string (nullable = true)\n",
      " |-- Incident_Rate: string (nullable = true)\n",
      " |-- Case_Fatality_Ratio: string (nullable = true)\n",
      "\n"
     ]
    }
   ],
   "source": [
    "covid_daily_report.printSchema()"
   ]
  },
  {
   "cell_type": "markdown",
   "id": "9b3e03f2",
   "metadata": {},
   "source": [
    "### JHU changed the dataset schema during the time\n",
    "*Initial schema: Province/State,Country/Region,Last Update,Confirmed,Deaths,Recovered*\n",
    "\n",
    "*Second schema: FIPS,Admin2,Province_State,Country_Region,Last_Update,Lat,Long_,Confirmed,Deaths,Recovered,Active,Combined_Key*\n",
    "\n",
    "*Third schema: Province/State,Country/Region,Last Update,Confirmed,Deaths,Recovered,Latitude,Longitude*\n",
    "\n",
    "*Forth schema: FIPS,Admin2,Province_State,Country_Region,Last_Update,Lat,Long_,Confirmed,Deaths,Recovered,Active,Combined_Key,Incidence_Rate,Case-Fatality_Ratio*"
   ]
  },
  {
   "cell_type": "code",
   "execution_count": 29,
   "id": "99b9a2b7",
   "metadata": {},
   "outputs": [],
   "source": [
    "# spark.sql(\"SELECT COUNT(DISTINCT 'Country/Region') AS Country, COUNT(DISTINCT 'Province/State') AS State \\\n",
    "#             FROM cases_table\").show()"
   ]
  },
  {
   "cell_type": "code",
   "execution_count": 30,
   "id": "2cd5a3f4",
   "metadata": {},
   "outputs": [
    {
     "name": "stdout",
     "output_type": "stream",
     "text": [
      "['FIPS', 'Admin2', 'Province_State', 'Country_Region', 'Last_Update', 'Lat', 'Long_', 'Confirmed', 'Deaths', 'Recovered', 'Active', 'Combined_Key', 'Incident_Rate', 'Case_Fatality_Ratio']\n"
     ]
    },
    {
     "data": {
      "text/plain": [
       "[Row(FIPS=None, Admin2=None, Province_State=None, Country_Region='Afghanistan', Last_Update='2021-02-27 05:22:28', Lat='33.93911', Long_='67.709953', Confirmed='55696', Deaths='2442', Recovered='49285', Active='3969', Combined_Key='Afghanistan', Incident_Rate='143.0731404659654', Case_Fatality_Ratio='4.384515943694341'),\n",
       " Row(FIPS=None, Admin2=None, Province_State=None, Country_Region='Albania', Last_Update='2021-02-27 05:22:28', Lat='41.1533', Long_='20.1683', Confirmed='105229', Deaths='1756', Recovered='68007', Active='35466', Combined_Key='Albania', Incident_Rate='3656.5779414830768', Case_Fatality_Ratio='1.6687415066188978'),\n",
       " Row(FIPS=None, Admin2=None, Province_State=None, Country_Region='Algeria', Last_Update='2021-02-27 05:22:28', Lat='28.0339', Long_='1.6596', Confirmed='112805', Deaths='2977', Recovered='77842', Active='31986', Combined_Key='Algeria', Incident_Rate='257.2458766830244', Case_Fatality_Ratio='2.639067417224414'),\n",
       " Row(FIPS=None, Admin2=None, Province_State=None, Country_Region='Andorra', Last_Update='2021-02-27 05:22:28', Lat='42.5063', Long_='1.5218', Confirmed='10822', Deaths='110', Recovered='10394', Active='318', Combined_Key='Andorra', Incident_Rate='14006.341810651653', Case_Fatality_Ratio='1.0164479763444834'),\n",
       " Row(FIPS=None, Admin2=None, Province_State=None, Country_Region='Angola', Last_Update='2021-02-27 05:22:28', Lat='-11.2027', Long_='17.8739', Confirmed='20759', Deaths='504', Recovered='19307', Active='948', Combined_Key='Angola', Incident_Rate='63.16202375030837', Case_Fatality_Ratio='2.42786261380606')]"
      ]
     },
     "execution_count": 30,
     "metadata": {},
     "output_type": "execute_result"
    }
   ],
   "source": [
    "print((str(covid_daily_report.columns)))\n",
    "type(covid_daily_report)\n",
    "covid_daily_report.head(5)\n"
   ]
  },
  {
   "cell_type": "code",
   "execution_count": 31,
   "id": "2468e64a",
   "metadata": {},
   "outputs": [],
   "source": [
    "df2=covid_daily_report\n",
    "df2= df2 \\\n",
    "        .withColumn(\"Country_Region\", \n",
    "        when(df2[\"Country_Region\"].contains(\"China\"),\"China\")\n",
    "        .otherwise(df2[\"Country_Region\"]))"
   ]
  },
  {
   "cell_type": "code",
   "execution_count": 32,
   "id": "3ce14ccd",
   "metadata": {},
   "outputs": [],
   "source": [
    "df2= df2 \\\n",
    "        .withColumn(\"Country_Region\", \n",
    "        when(df2[\"Country_Region\"].contains(\"Republic of Korea\"),\"Korea, South\")\n",
    "        .otherwise(df2[\"Country_Region\"]))"
   ]
  },
  {
   "cell_type": "code",
   "execution_count": 33,
   "id": "f266a8f4",
   "metadata": {},
   "outputs": [],
   "source": [
    "df2= df2 \\\n",
    "        .withColumn(\"Country_Region\", \n",
    "        when(df2[\"Country_Region\"].contains(\"Cote d'Ivoir\"),\"Cote d Ivoir\")\n",
    "        .otherwise(df2[\"Country_Region\"]))"
   ]
  },
  {
   "cell_type": "code",
   "execution_count": 34,
   "id": "3def1371",
   "metadata": {},
   "outputs": [],
   "source": [
    "df2= df2 \\\n",
    "        .withColumn(\"Combined_Key\", \n",
    "        when(df2[\"Country_Region\"].isNull(),\n",
    "        concat_ws(\", \", df2[\"Province_State\"], df2[\"Country_Region\"]))\n",
    "        .otherwise(df2[\"Combined_Key\"]))"
   ]
  },
  {
   "cell_type": "code",
   "execution_count": 35,
   "id": "b709e318",
   "metadata": {},
   "outputs": [],
   "source": [
    "df2= df2 \\\n",
    "        .withColumn(\"CaseFatalityRatio\", (df2.Deaths/df2.Confirmed)*100)"
   ]
  },
  {
   "cell_type": "code",
   "execution_count": 36,
   "id": "89c6ffe0",
   "metadata": {},
   "outputs": [],
   "source": [
    "if not (StructField(\"Incidence_Rate\",StringType(),True) in df2.schema):\n",
    "    df2= df2 \\\n",
    "        .withColumn(\"Incidence_Rate\", \n",
    "        lit(0.0))"
   ]
  },
  {
   "cell_type": "code",
   "execution_count": 37,
   "id": "d88a20da",
   "metadata": {},
   "outputs": [],
   "source": [
    "# get_datetime = udf(date_convert, TimestampType())\n",
    "# df2 = df2.withColumn(\"Date\", get_datetime('Last_Update'))"
   ]
  },
  {
   "cell_type": "code",
   "execution_count": 38,
   "id": "ba82ce7a",
   "metadata": {},
   "outputs": [],
   "source": [
    "df2 = df2.withColumn(\"Last_up\", to_timestamp(\"Last_Update\", \"yyyy-MM-dd HH:mm:ss\"))"
   ]
  },
  {
   "cell_type": "code",
   "execution_count": 39,
   "id": "92d5fabb",
   "metadata": {},
   "outputs": [],
   "source": [
    "df2= df2 \\\n",
    "        .withColumn(\"Date\",\n",
    "        to_date(col(\"Last_up\"),\"yyyy-MM-dd\")\n",
    "                    )"
   ]
  },
  {
   "cell_type": "code",
   "execution_count": 40,
   "id": "b3d3dc02",
   "metadata": {},
   "outputs": [
    {
     "data": {
      "text/plain": [
       "[Row(FIPS=None, Admin2=None, Province_State=None, Country_Region='Afghanistan', Last_Update='2021-02-27 05:22:28', Lat='33.93911', Long_='67.709953', Confirmed='55696', Deaths='2442', Recovered='49285', Active='3969', Combined_Key='Afghanistan', Incident_Rate='143.0731404659654', Case_Fatality_Ratio='4.384515943694341', CaseFatalityRatio=4.384515943694341, Incidence_Rate=0.0, Last_up=datetime.datetime(2021, 2, 27, 5, 22, 28), Date=datetime.date(2021, 2, 27)),\n",
       " Row(FIPS=None, Admin2=None, Province_State=None, Country_Region='Albania', Last_Update='2021-02-27 05:22:28', Lat='41.1533', Long_='20.1683', Confirmed='105229', Deaths='1756', Recovered='68007', Active='35466', Combined_Key='Albania', Incident_Rate='3656.5779414830768', Case_Fatality_Ratio='1.6687415066188978', CaseFatalityRatio=1.6687415066188978, Incidence_Rate=0.0, Last_up=datetime.datetime(2021, 2, 27, 5, 22, 28), Date=datetime.date(2021, 2, 27)),\n",
       " Row(FIPS=None, Admin2=None, Province_State=None, Country_Region='Algeria', Last_Update='2021-02-27 05:22:28', Lat='28.0339', Long_='1.6596', Confirmed='112805', Deaths='2977', Recovered='77842', Active='31986', Combined_Key='Algeria', Incident_Rate='257.2458766830244', Case_Fatality_Ratio='2.639067417224414', CaseFatalityRatio=2.639067417224414, Incidence_Rate=0.0, Last_up=datetime.datetime(2021, 2, 27, 5, 22, 28), Date=datetime.date(2021, 2, 27)),\n",
       " Row(FIPS=None, Admin2=None, Province_State=None, Country_Region='Andorra', Last_Update='2021-02-27 05:22:28', Lat='42.5063', Long_='1.5218', Confirmed='10822', Deaths='110', Recovered='10394', Active='318', Combined_Key='Andorra', Incident_Rate='14006.341810651653', Case_Fatality_Ratio='1.0164479763444834', CaseFatalityRatio=1.0164479763444834, Incidence_Rate=0.0, Last_up=datetime.datetime(2021, 2, 27, 5, 22, 28), Date=datetime.date(2021, 2, 27)),\n",
       " Row(FIPS=None, Admin2=None, Province_State=None, Country_Region='Angola', Last_Update='2021-02-27 05:22:28', Lat='-11.2027', Long_='17.8739', Confirmed='20759', Deaths='504', Recovered='19307', Active='948', Combined_Key='Angola', Incident_Rate='63.16202375030837', Case_Fatality_Ratio='2.42786261380606', CaseFatalityRatio=2.42786261380606, Incidence_Rate=0.0, Last_up=datetime.datetime(2021, 2, 27, 5, 22, 28), Date=datetime.date(2021, 2, 27)),\n",
       " Row(FIPS=None, Admin2=None, Province_State=None, Country_Region='Antigua and Barbuda', Last_Update='2021-02-27 05:22:28', Lat='17.0608', Long_='-61.7964', Confirmed='701', Deaths='14', Recovered='271', Active='416', Combined_Key='Antigua and Barbuda', Incident_Rate='715.832039866024', Case_Fatality_Ratio='1.9971469329529243', CaseFatalityRatio=1.9971469329529243, Incidence_Rate=0.0, Last_up=datetime.datetime(2021, 2, 27, 5, 22, 28), Date=datetime.date(2021, 2, 27)),\n",
       " Row(FIPS=None, Admin2=None, Province_State=None, Country_Region='Argentina', Last_Update='2021-02-27 05:22:28', Lat='-38.4161', Long_='-63.6167', Confirmed='2098728', Deaths='51887', Recovered='1892834', Active='154007', Combined_Key='Argentina', Incident_Rate='4643.637391165993', Case_Fatality_Ratio='2.4723070354995977', CaseFatalityRatio=2.4723070354995977, Incidence_Rate=0.0, Last_up=datetime.datetime(2021, 2, 27, 5, 22, 28), Date=datetime.date(2021, 2, 27)),\n",
       " Row(FIPS=None, Admin2=None, Province_State=None, Country_Region='Armenia', Last_Update='2021-02-27 05:22:28', Lat='40.0691', Long_='45.0382', Confirmed='171510', Deaths='3183', Recovered='163165', Active='5162', Combined_Key='Armenia', Incident_Rate='5787.9330488243595', Case_Fatality_Ratio='1.855868462480322', CaseFatalityRatio=1.855868462480322, Incidence_Rate=0.0, Last_up=datetime.datetime(2021, 2, 27, 5, 22, 28), Date=datetime.date(2021, 2, 27)),\n",
       " Row(FIPS=None, Admin2=None, Province_State='Australian Capital Territory', Country_Region='Australia', Last_Update='2021-02-27 05:22:28', Lat='-35.4735', Long_='149.0124', Confirmed='118', Deaths='3', Recovered='115', Active='0', Combined_Key='Australian Capital Territory, Australia', Incident_Rate='27.563653352020555', Case_Fatality_Ratio='2.542372881355932', CaseFatalityRatio=2.5423728813559325, Incidence_Rate=0.0, Last_up=datetime.datetime(2021, 2, 27, 5, 22, 28), Date=datetime.date(2021, 2, 27)),\n",
       " Row(FIPS=None, Admin2=None, Province_State='New South Wales', Country_Region='Australia', Last_Update='2021-02-27 05:22:28', Lat='-33.8688', Long_='151.2093', Confirmed='5172', Deaths='54', Recovered='0', Active='5118', Combined_Key='New South Wales, Australia', Incident_Rate='63.71027346637103', Case_Fatality_Ratio='1.0440835266821347', CaseFatalityRatio=1.0440835266821344, Incidence_Rate=0.0, Last_up=datetime.datetime(2021, 2, 27, 5, 22, 28), Date=datetime.date(2021, 2, 27))]"
      ]
     },
     "execution_count": 40,
     "metadata": {},
     "output_type": "execute_result"
    }
   ],
   "source": [
    "df2.head(10)"
   ]
  },
  {
   "cell_type": "code",
   "execution_count": 41,
   "id": "c946d0c3",
   "metadata": {},
   "outputs": [],
   "source": [
    "#dataset_fields = ['Date', 'Province_State as State', 'Country_Region as Country', 'Lat as Latitude', 'Long_ as Longitude', 'Confirmed', 'Deaths', 'Recovered', 'Active', 'Incidence_Rate', 'CaseFatalityRatio', 'Combined_Key']\n",
    "\n",
    "# extract columns to create songs table\n",
    "#dataset_table = dataset_table = df2.select(dataset_fields)"
   ]
  },
  {
   "cell_type": "code",
   "execution_count": 42,
   "id": "5d02d980",
   "metadata": {},
   "outputs": [],
   "source": [
    "df2 = df2.select(\n",
    "                 col('Province_State').alias('State'), \\\n",
    "                 col('Country_Region').alias('Country'), \\\n",
    "                 col('Date'), \\\n",
    "                 col('Lat').alias('Latitude'), \\\n",
    "                 col('Long_').alias('Longitude'), \\\n",
    "                 col('Confirmed'), \\\n",
    "                 col('Deaths'), \\\n",
    "                 col('Recovered'), \\\n",
    "                 col('Active'), \\\n",
    "                 col('Incidence_Rate'), \\\n",
    "                 col('CaseFatalityRatio'), \\\n",
    "                 col('Combined_Key')).repartition(\"Country\", \"Date\")"
   ]
  },
  {
   "cell_type": "code",
   "execution_count": 43,
   "id": "b104fb08",
   "metadata": {},
   "outputs": [
    {
     "data": {
      "text/plain": [
       "[Row(State=None, Country='Kenya', Date=datetime.date(2021, 2, 27), Latitude='-0.0236', Longitude='37.9062', Confirmed='105467', Deaths='1853', Recovered='86521', Active='17093', Incidence_Rate=0.0, CaseFatalityRatio=1.7569476708354272, Combined_Key='Kenya'),\n",
       " Row(State=None, Country='Seychelles', Date=datetime.date(2021, 2, 26), Latitude='-4.6796', Longitude='55.492', Confirmed='2562', Deaths='11', Recovered='2048', Active='503', Incidence_Rate=0.0, CaseFatalityRatio=0.429352068696331, Combined_Key='Seychelles'),\n",
       " Row(State='Antofagasta', Country='Chile', Date=datetime.date(2021, 3, 6), Latitude='-23.6509', Longitude='-70.3975', Confirmed='38610', Deaths='786', Recovered='36448', Active='1376', Incidence_Rate=0.0, CaseFatalityRatio=2.035742035742036, Combined_Key='Antofagasta, Chile'),\n",
       " Row(State='Araucania', Country='Chile', Date=datetime.date(2021, 3, 6), Latitude='-38.9489', Longitude='-72.3311', Confirmed='42105', Deaths='543', Recovered='39310', Active='2252', Incidence_Rate=0.0, CaseFatalityRatio=1.2896330602066262, Combined_Key='Araucania, Chile'),\n",
       " Row(State='Arica y Parinacota', Country='Chile', Date=datetime.date(2021, 3, 6), Latitude='-18.594', Longitude='-69.4785', Confirmed='15458', Deaths='307', Recovered='14614', Active='537', Incidence_Rate=0.0, CaseFatalityRatio=1.98602665286583, Combined_Key='Arica y Parinacota, Chile')]"
      ]
     },
     "execution_count": 43,
     "metadata": {},
     "output_type": "execute_result"
    }
   ],
   "source": [
    "df2.head(5)"
   ]
  },
  {
   "cell_type": "code",
   "execution_count": 21,
   "id": "4daa60d8",
   "metadata": {},
   "outputs": [],
   "source": [
    "# window = Window.partitionBy(\"Country\",\"State\").orderBy(\"Date\")\n",
    "\n",
    "# data = F.col(\"Confirmed\") - F.coalesce(F.lag(F.col(\"Confirmed\")).over(window), F.lit(0))\n",
    "# df2.withColumn(\"newConfirmed\", data)"
   ]
  },
  {
   "cell_type": "code",
   "execution_count": 44,
   "id": "1dc40ae4",
   "metadata": {},
   "outputs": [
    {
     "name": "stdout",
     "output_type": "stream",
     "text": [
      "root\n",
      " |-- State: string (nullable = true)\n",
      " |-- Country: string (nullable = true)\n",
      " |-- Date: date (nullable = true)\n",
      " |-- Latitude: string (nullable = true)\n",
      " |-- Longitude: string (nullable = true)\n",
      " |-- Confirmed: string (nullable = true)\n",
      " |-- Deaths: string (nullable = true)\n",
      " |-- Recovered: string (nullable = true)\n",
      " |-- Active: string (nullable = true)\n",
      " |-- Incidence_Rate: double (nullable = false)\n",
      " |-- CaseFatalityRatio: double (nullable = true)\n",
      " |-- Combined_Key: string (nullable = true)\n",
      "\n"
     ]
    }
   ],
   "source": [
    "df2.printSchema()"
   ]
  },
  {
   "cell_type": "code",
   "execution_count": 23,
   "id": "ce383b77",
   "metadata": {},
   "outputs": [],
   "source": [
    "output_schema = StructType() \\\n",
    "      .add(\"State\",StringType(),True) \\\n",
    "      .add(\"Country\",StringType(),True) \\\n",
    "      .add(\"Date\",DateType(),True) \\\n",
    "      .add(\"Latitude\",DoubleType(),True) \\\n",
    "      .add(\"Longitude\",DoubleType(),True) \\\n",
    "      .add(\"Confirmed\",IntegerType(),True) \\\n",
    "      .add(\"Deaths\",IntegerType(),True) \\\n",
    "      .add(\"Recovered\",IntegerType(),True) \\\n",
    "      .add(\"Active\",IntegerType(),True) \\\n",
    "      .add(\"IncidentRate\",DoubleType(),True) \\\n",
    "      .add(\"CaseFatalityRatio\",DoubleType(),True) \\\n",
    "      .add(\"CombinedKey\",StringType(),True)"
   ]
  },
  {
   "cell_type": "code",
   "execution_count": null,
   "id": "ae953a79",
   "metadata": {},
   "outputs": [],
   "source": []
  },
  {
   "cell_type": "code",
   "execution_count": 45,
   "id": "298ebe5b",
   "metadata": {},
   "outputs": [
    {
     "ename": "KeyboardInterrupt",
     "evalue": "",
     "output_type": "error",
     "traceback": [
      "\u001b[0;31m---------------------------------------------------------------------------\u001b[0m",
      "\u001b[0;31mKeyboardInterrupt\u001b[0m                         Traceback (most recent call last)",
      "\u001b[0;32m<ipython-input-45-82ae3e992b31>\u001b[0m in \u001b[0;36m<module>\u001b[0;34m\u001b[0m\n\u001b[0;32m----> 1\u001b[0;31m \u001b[0mdf2\u001b[0m\u001b[0;34m.\u001b[0m\u001b[0mwrite\u001b[0m\u001b[0;34m.\u001b[0m\u001b[0mpartitionBy\u001b[0m\u001b[0;34m(\u001b[0m\u001b[0;34m\"Country\"\u001b[0m\u001b[0;34m,\u001b[0m \u001b[0;34m\"Date\"\u001b[0m\u001b[0;34m)\u001b[0m\u001b[0;34m.\u001b[0m\u001b[0mparquet\u001b[0m\u001b[0;34m(\u001b[0m\u001b[0;34m'out/curated/'\u001b[0m\u001b[0;34m)\u001b[0m\u001b[0;34m\u001b[0m\u001b[0;34m\u001b[0m\u001b[0m\n\u001b[0m",
      "\u001b[0;32m~/Codes/UdacityCapstone/venv/lib/python3.9/site-packages/pyspark/sql/readwriter.py\u001b[0m in \u001b[0;36mparquet\u001b[0;34m(self, path, mode, partitionBy, compression)\u001b[0m\n\u001b[1;32m   1247\u001b[0m             \u001b[0mself\u001b[0m\u001b[0;34m.\u001b[0m\u001b[0mpartitionBy\u001b[0m\u001b[0;34m(\u001b[0m\u001b[0mpartitionBy\u001b[0m\u001b[0;34m)\u001b[0m\u001b[0;34m\u001b[0m\u001b[0;34m\u001b[0m\u001b[0m\n\u001b[1;32m   1248\u001b[0m         \u001b[0mself\u001b[0m\u001b[0;34m.\u001b[0m\u001b[0m_set_opts\u001b[0m\u001b[0;34m(\u001b[0m\u001b[0mcompression\u001b[0m\u001b[0;34m=\u001b[0m\u001b[0mcompression\u001b[0m\u001b[0;34m)\u001b[0m\u001b[0;34m\u001b[0m\u001b[0;34m\u001b[0m\u001b[0m\n\u001b[0;32m-> 1249\u001b[0;31m         \u001b[0mself\u001b[0m\u001b[0;34m.\u001b[0m\u001b[0m_jwrite\u001b[0m\u001b[0;34m.\u001b[0m\u001b[0mparquet\u001b[0m\u001b[0;34m(\u001b[0m\u001b[0mpath\u001b[0m\u001b[0;34m)\u001b[0m\u001b[0;34m\u001b[0m\u001b[0;34m\u001b[0m\u001b[0m\n\u001b[0m\u001b[1;32m   1250\u001b[0m \u001b[0;34m\u001b[0m\u001b[0m\n\u001b[1;32m   1251\u001b[0m     \u001b[0;32mdef\u001b[0m \u001b[0mtext\u001b[0m\u001b[0;34m(\u001b[0m\u001b[0mself\u001b[0m\u001b[0;34m,\u001b[0m \u001b[0mpath\u001b[0m\u001b[0;34m,\u001b[0m \u001b[0mcompression\u001b[0m\u001b[0;34m=\u001b[0m\u001b[0;32mNone\u001b[0m\u001b[0;34m,\u001b[0m \u001b[0mlineSep\u001b[0m\u001b[0;34m=\u001b[0m\u001b[0;32mNone\u001b[0m\u001b[0;34m)\u001b[0m\u001b[0;34m:\u001b[0m\u001b[0;34m\u001b[0m\u001b[0;34m\u001b[0m\u001b[0m\n",
      "\u001b[0;32m~/Codes/UdacityCapstone/venv/lib/python3.9/site-packages/py4j/java_gateway.py\u001b[0m in \u001b[0;36m__call__\u001b[0;34m(self, *args)\u001b[0m\n\u001b[1;32m   1301\u001b[0m             \u001b[0mproto\u001b[0m\u001b[0;34m.\u001b[0m\u001b[0mEND_COMMAND_PART\u001b[0m\u001b[0;34m\u001b[0m\u001b[0;34m\u001b[0m\u001b[0m\n\u001b[1;32m   1302\u001b[0m \u001b[0;34m\u001b[0m\u001b[0m\n\u001b[0;32m-> 1303\u001b[0;31m         \u001b[0manswer\u001b[0m \u001b[0;34m=\u001b[0m \u001b[0mself\u001b[0m\u001b[0;34m.\u001b[0m\u001b[0mgateway_client\u001b[0m\u001b[0;34m.\u001b[0m\u001b[0msend_command\u001b[0m\u001b[0;34m(\u001b[0m\u001b[0mcommand\u001b[0m\u001b[0;34m)\u001b[0m\u001b[0;34m\u001b[0m\u001b[0;34m\u001b[0m\u001b[0m\n\u001b[0m\u001b[1;32m   1304\u001b[0m         return_value = get_return_value(\n\u001b[1;32m   1305\u001b[0m             answer, self.gateway_client, self.target_id, self.name)\n",
      "\u001b[0;32m~/Codes/UdacityCapstone/venv/lib/python3.9/site-packages/py4j/java_gateway.py\u001b[0m in \u001b[0;36msend_command\u001b[0;34m(self, command, retry, binary)\u001b[0m\n\u001b[1;32m   1031\u001b[0m         \u001b[0mconnection\u001b[0m \u001b[0;34m=\u001b[0m \u001b[0mself\u001b[0m\u001b[0;34m.\u001b[0m\u001b[0m_get_connection\u001b[0m\u001b[0;34m(\u001b[0m\u001b[0;34m)\u001b[0m\u001b[0;34m\u001b[0m\u001b[0;34m\u001b[0m\u001b[0m\n\u001b[1;32m   1032\u001b[0m         \u001b[0;32mtry\u001b[0m\u001b[0;34m:\u001b[0m\u001b[0;34m\u001b[0m\u001b[0;34m\u001b[0m\u001b[0m\n\u001b[0;32m-> 1033\u001b[0;31m             \u001b[0mresponse\u001b[0m \u001b[0;34m=\u001b[0m \u001b[0mconnection\u001b[0m\u001b[0;34m.\u001b[0m\u001b[0msend_command\u001b[0m\u001b[0;34m(\u001b[0m\u001b[0mcommand\u001b[0m\u001b[0;34m)\u001b[0m\u001b[0;34m\u001b[0m\u001b[0;34m\u001b[0m\u001b[0m\n\u001b[0m\u001b[1;32m   1034\u001b[0m             \u001b[0;32mif\u001b[0m \u001b[0mbinary\u001b[0m\u001b[0;34m:\u001b[0m\u001b[0;34m\u001b[0m\u001b[0;34m\u001b[0m\u001b[0m\n\u001b[1;32m   1035\u001b[0m                 \u001b[0;32mreturn\u001b[0m \u001b[0mresponse\u001b[0m\u001b[0;34m,\u001b[0m \u001b[0mself\u001b[0m\u001b[0;34m.\u001b[0m\u001b[0m_create_connection_guard\u001b[0m\u001b[0;34m(\u001b[0m\u001b[0mconnection\u001b[0m\u001b[0;34m)\u001b[0m\u001b[0;34m\u001b[0m\u001b[0;34m\u001b[0m\u001b[0m\n",
      "\u001b[0;32m~/Codes/UdacityCapstone/venv/lib/python3.9/site-packages/py4j/java_gateway.py\u001b[0m in \u001b[0;36msend_command\u001b[0;34m(self, command)\u001b[0m\n\u001b[1;32m   1198\u001b[0m \u001b[0;34m\u001b[0m\u001b[0m\n\u001b[1;32m   1199\u001b[0m         \u001b[0;32mtry\u001b[0m\u001b[0;34m:\u001b[0m\u001b[0;34m\u001b[0m\u001b[0;34m\u001b[0m\u001b[0m\n\u001b[0;32m-> 1200\u001b[0;31m             \u001b[0manswer\u001b[0m \u001b[0;34m=\u001b[0m \u001b[0msmart_decode\u001b[0m\u001b[0;34m(\u001b[0m\u001b[0mself\u001b[0m\u001b[0;34m.\u001b[0m\u001b[0mstream\u001b[0m\u001b[0;34m.\u001b[0m\u001b[0mreadline\u001b[0m\u001b[0;34m(\u001b[0m\u001b[0;34m)\u001b[0m\u001b[0;34m[\u001b[0m\u001b[0;34m:\u001b[0m\u001b[0;34m-\u001b[0m\u001b[0;36m1\u001b[0m\u001b[0;34m]\u001b[0m\u001b[0;34m)\u001b[0m\u001b[0;34m\u001b[0m\u001b[0;34m\u001b[0m\u001b[0m\n\u001b[0m\u001b[1;32m   1201\u001b[0m             \u001b[0mlogger\u001b[0m\u001b[0;34m.\u001b[0m\u001b[0mdebug\u001b[0m\u001b[0;34m(\u001b[0m\u001b[0;34m\"Answer received: {0}\"\u001b[0m\u001b[0;34m.\u001b[0m\u001b[0mformat\u001b[0m\u001b[0;34m(\u001b[0m\u001b[0manswer\u001b[0m\u001b[0;34m)\u001b[0m\u001b[0;34m)\u001b[0m\u001b[0;34m\u001b[0m\u001b[0;34m\u001b[0m\u001b[0m\n\u001b[1;32m   1202\u001b[0m             \u001b[0;32mif\u001b[0m \u001b[0manswer\u001b[0m\u001b[0;34m.\u001b[0m\u001b[0mstartswith\u001b[0m\u001b[0;34m(\u001b[0m\u001b[0mproto\u001b[0m\u001b[0;34m.\u001b[0m\u001b[0mRETURN_MESSAGE\u001b[0m\u001b[0;34m)\u001b[0m\u001b[0;34m:\u001b[0m\u001b[0;34m\u001b[0m\u001b[0;34m\u001b[0m\u001b[0m\n",
      "\u001b[0;32m/usr/local/Cellar/python@3.9/3.9.1_1/Frameworks/Python.framework/Versions/3.9/lib/python3.9/socket.py\u001b[0m in \u001b[0;36mreadinto\u001b[0;34m(self, b)\u001b[0m\n\u001b[1;32m    702\u001b[0m         \u001b[0;32mwhile\u001b[0m \u001b[0;32mTrue\u001b[0m\u001b[0;34m:\u001b[0m\u001b[0;34m\u001b[0m\u001b[0;34m\u001b[0m\u001b[0m\n\u001b[1;32m    703\u001b[0m             \u001b[0;32mtry\u001b[0m\u001b[0;34m:\u001b[0m\u001b[0;34m\u001b[0m\u001b[0;34m\u001b[0m\u001b[0m\n\u001b[0;32m--> 704\u001b[0;31m                 \u001b[0;32mreturn\u001b[0m \u001b[0mself\u001b[0m\u001b[0;34m.\u001b[0m\u001b[0m_sock\u001b[0m\u001b[0;34m.\u001b[0m\u001b[0mrecv_into\u001b[0m\u001b[0;34m(\u001b[0m\u001b[0mb\u001b[0m\u001b[0;34m)\u001b[0m\u001b[0;34m\u001b[0m\u001b[0;34m\u001b[0m\u001b[0m\n\u001b[0m\u001b[1;32m    705\u001b[0m             \u001b[0;32mexcept\u001b[0m \u001b[0mtimeout\u001b[0m\u001b[0;34m:\u001b[0m\u001b[0;34m\u001b[0m\u001b[0;34m\u001b[0m\u001b[0m\n\u001b[1;32m    706\u001b[0m                 \u001b[0mself\u001b[0m\u001b[0;34m.\u001b[0m\u001b[0m_timeout_occurred\u001b[0m \u001b[0;34m=\u001b[0m \u001b[0;32mTrue\u001b[0m\u001b[0;34m\u001b[0m\u001b[0;34m\u001b[0m\u001b[0m\n",
      "\u001b[0;31mKeyboardInterrupt\u001b[0m: "
     ]
    }
   ],
   "source": [
    "df2.write.partitionBy(\"Country\", \"Date\").parquet('out/curated/')"
   ]
  },
  {
   "cell_type": "code",
   "execution_count": null,
   "id": "ffce0152",
   "metadata": {},
   "outputs": [],
   "source": [
    "df2.write \\\n",
    "    .format(\"com.databricks.spark.csv\") \\\n",
    "    .option(\"header\",True) \\\n",
    "    .option(\"escape\", \"\") \\\n",
    "    .option(\"quote\", \"\") \\\n",
    "    .option(\"emptyValue\", \"\") \\\n",
    "    .option(\"delimiter\", \";\") \\\n",
    "    .save(\"out/spark_output/\")"
   ]
  },
  {
   "cell_type": "code",
   "execution_count": null,
   "id": "7c66864b",
   "metadata": {},
   "outputs": [],
   "source": []
  },
  {
   "cell_type": "code",
   "execution_count": null,
   "id": "54d59043",
   "metadata": {},
   "outputs": [],
   "source": []
  },
  {
   "cell_type": "code",
   "execution_count": null,
   "id": "f1a3ca38",
   "metadata": {},
   "outputs": [],
   "source": []
  },
  {
   "cell_type": "code",
   "execution_count": null,
   "id": "9e086d4f",
   "metadata": {},
   "outputs": [],
   "source": []
  },
  {
   "cell_type": "code",
   "execution_count": null,
   "id": "c96b9b25",
   "metadata": {},
   "outputs": [],
   "source": []
  }
 ],
 "metadata": {
  "kernelspec": {
   "display_name": "Python 3",
   "language": "python",
   "name": "python3"
  },
  "language_info": {
   "codemirror_mode": {
    "name": "ipython",
    "version": 3
   },
   "file_extension": ".py",
   "mimetype": "text/x-python",
   "name": "python",
   "nbconvert_exporter": "python",
   "pygments_lexer": "ipython3",
   "version": "3.9.1"
  }
 },
 "nbformat": 4,
 "nbformat_minor": 5
}
