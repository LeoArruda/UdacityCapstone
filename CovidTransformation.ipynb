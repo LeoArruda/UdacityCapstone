{
 "cells": [
  {
   "cell_type": "code",
   "execution_count": 1,
   "id": "9076194b",
   "metadata": {},
   "outputs": [],
   "source": [
    "import pandas as pd\n",
    "from pyspark.sql import SparkSession\n",
    "from pyspark.sql.types import StructField,StringType\n",
    "from pyspark.sql.types import StructType,StructField, StringType, IntegerType \n",
    "from pyspark.sql.types import ArrayType, DoubleType, BooleanType, DateType\n",
    "from pyspark.sql.functions import udf, col, array_contains, when, concat_ws, to_date, to_timestamp, lit, date_format\n",
    "from pyspark.sql.window import Window\n",
    "import pyspark.sql.functions as F"
   ]
  },
  {
   "cell_type": "code",
   "execution_count": null,
   "id": "52602f86",
   "metadata": {},
   "outputs": [],
   "source": []
  },
  {
   "cell_type": "code",
   "execution_count": 2,
   "id": "680481de",
   "metadata": {},
   "outputs": [],
   "source": [
    "spark = SparkSession \\\n",
    "        .builder \\\n",
    "        .appName(\"Spark Covid Earlier Transformations\") \\\n",
    "        .getOrCreate()"
   ]
  },
  {
   "cell_type": "code",
   "execution_count": 3,
   "id": "83f038dd",
   "metadata": {},
   "outputs": [],
   "source": [
    "# Load dataset from Johns Hopkins University Github page\n",
    "# with command pd.read_csv(\"datafile.csv\")\n",
    "#covid_daily_report = pd.read_csv(\"data/01-23-2020.csv\")\n",
    "covid_daily_report = spark.read \\\n",
    "                    .option(\"header\",True) \\\n",
    "                    .option(\"inferSchema\",True) \\\n",
    "                    .csv(\"data/*.csv\")\n",
    "\n",
    "\n",
    "#                    "
   ]
  },
  {
   "cell_type": "code",
   "execution_count": 4,
   "id": "3a8f6fc5",
   "metadata": {},
   "outputs": [],
   "source": [
    "#covid_daily_report.createOrReplaceTempView(\"cases_table\")"
   ]
  },
  {
   "cell_type": "code",
   "execution_count": 5,
   "id": "9888ea91",
   "metadata": {},
   "outputs": [
    {
     "name": "stdout",
     "output_type": "stream",
     "text": [
      "root\n",
      " |-- FIPS: string (nullable = true)\n",
      " |-- Admin2: string (nullable = true)\n",
      " |-- Province_State: string (nullable = true)\n",
      " |-- Country_Region: string (nullable = true)\n",
      " |-- Last_Update: string (nullable = true)\n",
      " |-- Lat: string (nullable = true)\n",
      " |-- Long_: string (nullable = true)\n",
      " |-- Confirmed: string (nullable = true)\n",
      " |-- Deaths: string (nullable = true)\n",
      " |-- Recovered: string (nullable = true)\n",
      " |-- Active: string (nullable = true)\n",
      " |-- Combined_Key: string (nullable = true)\n",
      " |-- Incident_Rate: string (nullable = true)\n",
      " |-- Case_Fatality_Ratio: string (nullable = true)\n",
      "\n"
     ]
    }
   ],
   "source": [
    "covid_daily_report.printSchema()"
   ]
  },
  {
   "cell_type": "markdown",
   "id": "9b3e03f2",
   "metadata": {},
   "source": [
    "### JHU changed the dataset schema during the time\n",
    "*Initial schema: Province/State,Country/Region,Last Update,Confirmed,Deaths,Recovered*\n",
    "\n",
    "*Second schema: FIPS,Admin2,Province_State,Country_Region,Last_Update,Lat,Long_,Confirmed,Deaths,Recovered,Active,Combined_Key*\n",
    "\n",
    "*Third schema: Province/State,Country/Region,Last Update,Confirmed,Deaths,Recovered,Latitude,Longitude*\n",
    "\n",
    "*Forth schema: FIPS,Admin2,Province_State,Country_Region,Last_Update,Lat,Long_,Confirmed,Deaths,Recovered,Active,Combined_Key,Incidence_Rate,Case-Fatality_Ratio*"
   ]
  },
  {
   "cell_type": "code",
   "execution_count": 6,
   "id": "99b9a2b7",
   "metadata": {},
   "outputs": [],
   "source": [
    "# spark.sql(\"SELECT COUNT(DISTINCT 'Country/Region') AS Country, COUNT(DISTINCT 'Province/State') AS State \\\n",
    "#             FROM cases_table\").show()"
   ]
  },
  {
   "cell_type": "code",
   "execution_count": 7,
   "id": "2cd5a3f4",
   "metadata": {},
   "outputs": [],
   "source": [
    "# print((str(covid_daily_report.columns)))\n",
    "# type(covid_daily_report)\n",
    "# covid_daily_report.head(5)\n"
   ]
  },
  {
   "cell_type": "code",
   "execution_count": 8,
   "id": "2468e64a",
   "metadata": {},
   "outputs": [],
   "source": [
    "df2=covid_daily_report\n",
    "df2= df2 \\\n",
    "        .withColumn(\"Country_Region\", \n",
    "        when(df2[\"Country_Region\"].contains(\"China\"),\"China\")\n",
    "        .otherwise(df2[\"Country_Region\"]))"
   ]
  },
  {
   "cell_type": "code",
   "execution_count": 9,
   "id": "84db4d7f",
   "metadata": {},
   "outputs": [],
   "source": [
    "df2= df2 \\\n",
    "        .withColumn(\"Country_Region\", \n",
    "        when(df2[\"Country_Region\"].contains(\"Republic of Korea\"),\"Korea, South\")\n",
    "        .otherwise(df2[\"Country_Region\"]))"
   ]
  },
  {
   "cell_type": "code",
   "execution_count": 10,
   "id": "f266a8f4",
   "metadata": {},
   "outputs": [],
   "source": [
    "df2= df2 \\\n",
    "        .withColumn(\"Country_Region\", \n",
    "        when(df2[\"Country_Region\"].contains(\"Cote d'Ivoir\"),\"Cote d Ivoir\")\n",
    "        .otherwise(df2[\"Country_Region\"]))"
   ]
  },
  {
   "cell_type": "code",
   "execution_count": 11,
   "id": "f96c8bdf",
   "metadata": {},
   "outputs": [],
   "source": [
    "df2= df2 \\\n",
    "        .withColumn(\"Country_Region\", \n",
    "        when(df2[\"Country_Region\"].contains(\"Taiwan*\"),\"Taiwan\")\n",
    "        .otherwise(df2[\"Country_Region\"]))"
   ]
  },
  {
   "cell_type": "code",
   "execution_count": 12,
   "id": "3def1371",
   "metadata": {},
   "outputs": [],
   "source": [
    "df2= df2 \\\n",
    "        .withColumn(\"Combined_Key\", \n",
    "        when(df2[\"Country_Region\"].isNull(),\n",
    "        concat_ws(\", \", df2[\"Province_State\"], df2[\"Country_Region\"]))\n",
    "        .otherwise(df2[\"Combined_Key\"]))\n",
    "df2= df2 \\\n",
    "        .withColumn(\"Combined_Key\", \n",
    "        when(df2[\"Combined_Key\"].contains(\"Taiwan*\"),\"Taiwan\")\n",
    "        .otherwise(df2[\"Combined_Key\"]))"
   ]
  },
  {
   "cell_type": "code",
   "execution_count": 13,
   "id": "b709e318",
   "metadata": {},
   "outputs": [],
   "source": [
    "df2= df2 \\\n",
    "        .withColumn(\"CaseFatalityRatio\", (df2.Deaths/df2.Confirmed)*100)"
   ]
  },
  {
   "cell_type": "code",
   "execution_count": 14,
   "id": "89c6ffe0",
   "metadata": {},
   "outputs": [],
   "source": [
    "if not (StructField(\"Incidence_Rate\",StringType(),True) in df2.schema):\n",
    "    df2= df2 \\\n",
    "        .withColumn(\"Incidence_Rate\", \n",
    "        lit(0.0))"
   ]
  },
  {
   "cell_type": "code",
   "execution_count": 15,
   "id": "12f02cf9",
   "metadata": {},
   "outputs": [],
   "source": [
    "# get_datetime = udf(date_convert, TimestampType())\n",
    "# df2 = df2.withColumn(\"Date\", get_datetime('Last_Update'))"
   ]
  },
  {
   "cell_type": "code",
   "execution_count": 16,
   "id": "0e1e5d63",
   "metadata": {},
   "outputs": [],
   "source": [
    "df2 = df2 \\\n",
    "        .withColumn(\"Last_up\", to_timestamp(\"Last_Update\", \"yyyy-MM-dd HH:mm:ss\")) \\\n",
    "        .withColumn(\"Year\", date_format(col(\"Last_Update\"), \"yyyy\")) \\\n",
    "        .withColumn(\"Month\", date_format(col(\"Last_Update\"), \"MM\")) \\\n",
    "        .withColumn(\"Day\", date_format(col(\"Last_Update\"), \"dd\")) \\\n",
    "        .drop(\"Last_up\")"
   ]
  },
  {
   "cell_type": "code",
   "execution_count": 17,
   "id": "92d5fabb",
   "metadata": {},
   "outputs": [],
   "source": [
    "df2= df2 \\\n",
    "        .withColumn(\"Datekey\",\n",
    "        date_format(col(\"Last_Update\"), \"yyyyMMdd\"))"
   ]
  },
  {
   "cell_type": "code",
   "execution_count": 18,
   "id": "5d02d980",
   "metadata": {},
   "outputs": [],
   "source": [
    "df2 = df2.select(\n",
    "                 col('Datekey'), \\\n",
    "                 col('Year'), \\\n",
    "                 col('Month'), \\\n",
    "                 col('Day'), \\\n",
    "                 col('Province_State').alias('State'), \\\n",
    "                 col('Country_Region').alias('Country'), \\\n",
    "                 col('Last_Update').alias('Date'), \\\n",
    "                 col('Lat').alias('Latitude'), \\\n",
    "                 col('Long_').alias('Longitude'), \\\n",
    "                 col('Confirmed'), \\\n",
    "                 col('Deaths'), \\\n",
    "                 col('Recovered'), \\\n",
    "                 col('Active'), \\\n",
    "                 col('Incidence_Rate'), \\\n",
    "                 col('CaseFatalityRatio'), \\\n",
    "                 col('Combined_Key'))"
   ]
  },
  {
   "cell_type": "code",
   "execution_count": 19,
   "id": "d9c43efd",
   "metadata": {},
   "outputs": [
    {
     "data": {
      "text/plain": [
       "Column<'contains(Country, Taiwan*)'>"
      ]
     },
     "execution_count": 19,
     "metadata": {},
     "output_type": "execute_result"
    }
   ],
   "source": [
    "df2['Country'].contains('Taiwan*')"
   ]
  },
  {
   "cell_type": "code",
   "execution_count": 20,
   "id": "4daa60d8",
   "metadata": {},
   "outputs": [],
   "source": [
    "# window = Window.partitionBy(\"Country\",\"State\").orderBy(\"Date\")\n",
    "\n",
    "# data = F.col(\"Confirmed\") - F.coalesce(F.lag(F.col(\"Confirmed\")).over(window), F.lit(0))\n",
    "# df2.withColumn(\"newConfirmed\", data)"
   ]
  },
  {
   "cell_type": "code",
   "execution_count": 21,
   "id": "1dc40ae4",
   "metadata": {},
   "outputs": [
    {
     "name": "stdout",
     "output_type": "stream",
     "text": [
      "root\n",
      " |-- Datekey: string (nullable = true)\n",
      " |-- Year: string (nullable = true)\n",
      " |-- Month: string (nullable = true)\n",
      " |-- Day: string (nullable = true)\n",
      " |-- State: string (nullable = true)\n",
      " |-- Country: string (nullable = true)\n",
      " |-- Date: string (nullable = true)\n",
      " |-- Latitude: string (nullable = true)\n",
      " |-- Longitude: string (nullable = true)\n",
      " |-- Confirmed: string (nullable = true)\n",
      " |-- Deaths: string (nullable = true)\n",
      " |-- Recovered: string (nullable = true)\n",
      " |-- Active: string (nullable = true)\n",
      " |-- Incidence_Rate: double (nullable = false)\n",
      " |-- CaseFatalityRatio: double (nullable = true)\n",
      " |-- Combined_Key: string (nullable = true)\n",
      "\n"
     ]
    }
   ],
   "source": [
    "df2.printSchema()"
   ]
  },
  {
   "cell_type": "code",
   "execution_count": 22,
   "id": "ce383b77",
   "metadata": {},
   "outputs": [],
   "source": [
    "# output_schema = StructType() \\\n",
    "#       .add(\"State\",StringType(),True) \\\n",
    "#       .add(\"Country\",StringType(),True) \\\n",
    "#       .add(\"Date\",DateType(),True) \\\n",
    "#       .add(\"Latitude\",DoubleType(),True) \\\n",
    "#       .add(\"Longitude\",DoubleType(),True) \\\n",
    "#       .add(\"Confirmed\",IntegerType(),True) \\\n",
    "#       .add(\"Deaths\",IntegerType(),True) \\\n",
    "#       .add(\"Recovered\",IntegerType(),True) \\\n",
    "#       .add(\"Active\",IntegerType(),True) \\\n",
    "#       .add(\"IncidentRate\",DoubleType(),True) \\\n",
    "#       .add(\"CaseFatalityRatio\",DoubleType(),True) \\\n",
    "#       .add(\"CombinedKey\",StringType(),True)"
   ]
  },
  {
   "cell_type": "code",
   "execution_count": null,
   "id": "ae953a79",
   "metadata": {},
   "outputs": [],
   "source": []
  },
  {
   "cell_type": "code",
   "execution_count": 23,
   "id": "830d3bd7",
   "metadata": {},
   "outputs": [],
   "source": [
    "# df2.write \\\n",
    "#     .mode(\"overwrite\") \\\n",
    "#     .partitionBy(\"Year\", \"Month\", \"Day\", \"Country\") \\\n",
    "#     .parquet('out/curated/')"
   ]
  },
  {
   "cell_type": "code",
   "execution_count": 24,
   "id": "ffce0152",
   "metadata": {},
   "outputs": [],
   "source": [
    "df2.write \\\n",
    "    .format(\"com.databricks.spark.csv\") \\\n",
    "    .mode(\"overwrite\") \\\n",
    "    .option(\"header\",False) \\\n",
    "    .option(\"escape\", \"\") \\\n",
    "    .option(\"quote\", \"\") \\\n",
    "    .option(\"emptyValue\", \"\") \\\n",
    "    .option(\"delimiter\", \";\") \\\n",
    "    .save(\"out/landed\")"
   ]
  },
  {
   "cell_type": "code",
   "execution_count": null,
   "id": "7c66864b",
   "metadata": {},
   "outputs": [],
   "source": []
  },
  {
   "cell_type": "code",
   "execution_count": null,
   "id": "54d59043",
   "metadata": {},
   "outputs": [],
   "source": []
  },
  {
   "cell_type": "code",
   "execution_count": null,
   "id": "f1a3ca38",
   "metadata": {},
   "outputs": [],
   "source": []
  },
  {
   "cell_type": "code",
   "execution_count": null,
   "id": "9e086d4f",
   "metadata": {},
   "outputs": [],
   "source": []
  },
  {
   "cell_type": "code",
   "execution_count": null,
   "id": "c96b9b25",
   "metadata": {},
   "outputs": [],
   "source": []
  }
 ],
 "metadata": {
  "kernelspec": {
   "display_name": "Python 3",
   "language": "python",
   "name": "python3"
  },
  "language_info": {
   "codemirror_mode": {
    "name": "ipython",
    "version": 3
   },
   "file_extension": ".py",
   "mimetype": "text/x-python",
   "name": "python",
   "nbconvert_exporter": "python",
   "pygments_lexer": "ipython3",
   "version": "3.9.1"
  }
 },
 "nbformat": 4,
 "nbformat_minor": 5
}
