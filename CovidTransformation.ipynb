{
 "cells": [
  {
   "cell_type": "code",
   "execution_count": 2,
   "id": "9076194b",
   "metadata": {},
   "outputs": [],
   "source": [
    "import pandas as pd\n",
    "from pyspark.sql import SparkSession\n",
    "from pyspark.sql.types import StructField,StringType\n",
    "from pyspark.sql.types import StructType,StructField, StringType, IntegerType \n",
    "from pyspark.sql.types import ArrayType, DoubleType, BooleanType, DateType\n",
    "from pyspark.sql.functions import col, array_contains, when, concat_ws, to_date, lit\n",
    "from pyspark.sql.window import Window\n",
    "import pyspark.sql.functions as F"
   ]
  },
  {
   "cell_type": "code",
   "execution_count": null,
   "id": "52602f86",
   "metadata": {},
   "outputs": [],
   "source": []
  },
  {
   "cell_type": "code",
   "execution_count": 3,
   "id": "680481de",
   "metadata": {},
   "outputs": [],
   "source": [
    "spark = SparkSession \\\n",
    "        .builder \\\n",
    "        .appName(\"Spark Covid Earlier Transformations\") \\\n",
    "        .getOrCreate()"
   ]
  },
  {
   "cell_type": "code",
   "execution_count": 4,
   "id": "83f038dd",
   "metadata": {},
   "outputs": [],
   "source": [
    "# Load dataset from Johns Hopkins University Github page\n",
    "# with command pd.read_csv(\"datafile.csv\")\n",
    "#covid_daily_report = pd.read_csv(\"data/01-23-2020.csv\")\n",
    "covid_daily_report = spark.read \\\n",
    "                    .option(\"header\",True) \\\n",
    "                    .option(\"inferSchema\",True) \\\n",
    "                    .csv(\"data/03-24-2020.csv\")\n",
    "\n",
    "\n",
    "#                    "
   ]
  },
  {
   "cell_type": "code",
   "execution_count": 5,
   "id": "3a8f6fc5",
   "metadata": {},
   "outputs": [],
   "source": [
    "#covid_daily_report.createOrReplaceTempView(\"cases_table\")"
   ]
  },
  {
   "cell_type": "code",
   "execution_count": 6,
   "id": "9888ea91",
   "metadata": {},
   "outputs": [
    {
     "name": "stdout",
     "output_type": "stream",
     "text": [
      "root\n",
      " |-- FIPS: integer (nullable = true)\n",
      " |-- Admin2: string (nullable = true)\n",
      " |-- Province_State: string (nullable = true)\n",
      " |-- Country_Region: string (nullable = true)\n",
      " |-- Last_Update: string (nullable = true)\n",
      " |-- Lat: double (nullable = true)\n",
      " |-- Long_: double (nullable = true)\n",
      " |-- Confirmed: integer (nullable = true)\n",
      " |-- Deaths: integer (nullable = true)\n",
      " |-- Recovered: integer (nullable = true)\n",
      " |-- Active: integer (nullable = true)\n",
      " |-- Combined_Key: string (nullable = true)\n",
      "\n"
     ]
    }
   ],
   "source": [
    "covid_daily_report.printSchema()"
   ]
  },
  {
   "cell_type": "markdown",
   "id": "9b3e03f2",
   "metadata": {},
   "source": [
    "### JHU changed the dataset schema during the time\n",
    "*Initial schema: Province/State,Country/Region,Last Update,Confirmed,Deaths,Recovered*\n",
    "\n",
    "*Second schema: FIPS,Admin2,Province_State,Country_Region,Last_Update,Lat,Long_,Confirmed,Deaths,Recovered,Active,Combined_Key*\n",
    "\n",
    "*Third schema: Province/State,Country/Region,Last Update,Confirmed,Deaths,Recovered,Latitude,Longitude*\n",
    "\n",
    "*Forth schema: FIPS,Admin2,Province_State,Country_Region,Last_Update,Lat,Long_,Confirmed,Deaths,Recovered,Active,Combined_Key,Incidence_Rate,Case-Fatality_Ratio*"
   ]
  },
  {
   "cell_type": "code",
   "execution_count": 7,
   "id": "99b9a2b7",
   "metadata": {},
   "outputs": [],
   "source": [
    "# spark.sql(\"SELECT COUNT(DISTINCT 'Country/Region') AS Country, COUNT(DISTINCT 'Province/State') AS State \\\n",
    "#             FROM cases_table\").show()"
   ]
  },
  {
   "cell_type": "code",
   "execution_count": 8,
   "id": "2cd5a3f4",
   "metadata": {},
   "outputs": [
    {
     "name": "stdout",
     "output_type": "stream",
     "text": [
      "['FIPS', 'Admin2', 'Province_State', 'Country_Region', 'Last_Update', 'Lat', 'Long_', 'Confirmed', 'Deaths', 'Recovered', 'Active', 'Combined_Key']\n"
     ]
    },
    {
     "data": {
      "text/plain": [
       "[Row(FIPS=45001, Admin2='Abbeville', Province_State='South Carolina', Country_Region='US', Last_Update='2020-03-24 23:37:31', Lat=34.22333378, Long_=-82.46170658, Confirmed=1, Deaths=0, Recovered=0, Active=0, Combined_Key='Abbeville, South Carolina, US'),\n",
       " Row(FIPS=22001, Admin2='Acadia', Province_State='Louisiana', Country_Region='US', Last_Update='2020-03-24 23:37:31', Lat=30.295064899999996, Long_=-92.41419698, Confirmed=2, Deaths=0, Recovered=0, Active=0, Combined_Key='Acadia, Louisiana, US'),\n",
       " Row(FIPS=51001, Admin2='Accomack', Province_State='Virginia', Country_Region='US', Last_Update='2020-03-24 23:37:31', Lat=37.76707161, Long_=-75.63234615, Confirmed=1, Deaths=0, Recovered=0, Active=0, Combined_Key='Accomack, Virginia, US'),\n",
       " Row(FIPS=16001, Admin2='Ada', Province_State='Idaho', Country_Region='US', Last_Update='2020-03-24 23:37:31', Lat=43.4526575, Long_=-116.24155159999998, Confirmed=19, Deaths=0, Recovered=0, Active=0, Combined_Key='Ada, Idaho, US'),\n",
       " Row(FIPS=19001, Admin2='Adair', Province_State='Iowa', Country_Region='US', Last_Update='2020-03-24 23:37:31', Lat=41.33075609, Long_=-94.47105874, Confirmed=1, Deaths=0, Recovered=0, Active=0, Combined_Key='Adair, Iowa, US')]"
      ]
     },
     "execution_count": 8,
     "metadata": {},
     "output_type": "execute_result"
    }
   ],
   "source": [
    "print((str(covid_daily_report.columns)))\n",
    "type(covid_daily_report)\n",
    "covid_daily_report.head(5)\n"
   ]
  },
  {
   "cell_type": "code",
   "execution_count": 9,
   "id": "2468e64a",
   "metadata": {},
   "outputs": [],
   "source": [
    "df2=covid_daily_report\n",
    "df2= df2 \\\n",
    "        .withColumn(\"Country_Region\", \n",
    "        when(df2[\"Country_Region\"].contains(\"China\"),\"China\")\n",
    "        .otherwise(df2[\"Country_Region\"]))"
   ]
  },
  {
   "cell_type": "code",
   "execution_count": 10,
   "id": "f266a8f4",
   "metadata": {},
   "outputs": [],
   "source": [
    "df2= df2 \\\n",
    "        .withColumn(\"Country_Region\", \n",
    "        when(df2[\"Country_Region\"].contains(\"Republic of Korea\"),\"Korea, South\")\n",
    "        .otherwise(df2[\"Country_Region\"]))"
   ]
  },
  {
   "cell_type": "code",
   "execution_count": 11,
   "id": "3def1371",
   "metadata": {},
   "outputs": [],
   "source": [
    "df2= df2 \\\n",
    "        .withColumn(\"Combined_Key\", \n",
    "        when(df2[\"Country_Region\"].isNull(),\n",
    "        concat_ws(\", \", df2[\"Province_State\"], df2[\"Country_Region\"]))\n",
    "        .otherwise(df2[\"Combined_Key\"]))"
   ]
  },
  {
   "cell_type": "code",
   "execution_count": 12,
   "id": "b709e318",
   "metadata": {},
   "outputs": [],
   "source": [
    "df2= df2 \\\n",
    "        .withColumn(\"CaseFatalityRatio\", (df2.Deaths/df2.Confirmed)*100)"
   ]
  },
  {
   "cell_type": "code",
   "execution_count": 13,
   "id": "89c6ffe0",
   "metadata": {},
   "outputs": [],
   "source": [
    "if not (StructField(\"Incidence_Rate\",StringType(),True) in df2.schema):\n",
    "    df2= df2 \\\n",
    "        .withColumn(\"Incidence_Rate\", \n",
    "        lit(\"\"))"
   ]
  },
  {
   "cell_type": "code",
   "execution_count": 14,
   "id": "92d5fabb",
   "metadata": {},
   "outputs": [],
   "source": [
    "df2= df2 \\\n",
    "        .withColumn(\"Last_Update\",\n",
    "        to_date(col(\"Last_Update\"),\"MM-dd-yyyy\")\n",
    "                    )"
   ]
  },
  {
   "cell_type": "code",
   "execution_count": 15,
   "id": "b3d3dc02",
   "metadata": {},
   "outputs": [
    {
     "data": {
      "text/plain": [
       "[Row(FIPS=45001, Admin2='Abbeville', Province_State='South Carolina', Country_Region='US', Last_Update=None, Lat=34.22333378, Long_=-82.46170658, Confirmed=1, Deaths=0, Recovered=0, Active=0, Combined_Key='Abbeville, South Carolina, US', CaseFatalityRatio=0.0, Incidence_Rate=''),\n",
       " Row(FIPS=22001, Admin2='Acadia', Province_State='Louisiana', Country_Region='US', Last_Update=None, Lat=30.295064899999996, Long_=-92.41419698, Confirmed=2, Deaths=0, Recovered=0, Active=0, Combined_Key='Acadia, Louisiana, US', CaseFatalityRatio=0.0, Incidence_Rate=''),\n",
       " Row(FIPS=51001, Admin2='Accomack', Province_State='Virginia', Country_Region='US', Last_Update=None, Lat=37.76707161, Long_=-75.63234615, Confirmed=1, Deaths=0, Recovered=0, Active=0, Combined_Key='Accomack, Virginia, US', CaseFatalityRatio=0.0, Incidence_Rate=''),\n",
       " Row(FIPS=16001, Admin2='Ada', Province_State='Idaho', Country_Region='US', Last_Update=None, Lat=43.4526575, Long_=-116.24155159999998, Confirmed=19, Deaths=0, Recovered=0, Active=0, Combined_Key='Ada, Idaho, US', CaseFatalityRatio=0.0, Incidence_Rate=''),\n",
       " Row(FIPS=19001, Admin2='Adair', Province_State='Iowa', Country_Region='US', Last_Update=None, Lat=41.33075609, Long_=-94.47105874, Confirmed=1, Deaths=0, Recovered=0, Active=0, Combined_Key='Adair, Iowa, US', CaseFatalityRatio=0.0, Incidence_Rate=''),\n",
       " Row(FIPS=21001, Admin2='Adair', Province_State='Kentucky', Country_Region='US', Last_Update=None, Lat=37.10459774, Long_=-85.28129668, Confirmed=0, Deaths=0, Recovered=0, Active=0, Combined_Key='Adair, Kentucky, US', CaseFatalityRatio=None, Incidence_Rate=''),\n",
       " Row(FIPS=29001, Admin2='Adair', Province_State='Missouri', Country_Region='US', Last_Update=None, Lat=40.19058551, Long_=-92.60078167, Confirmed=1, Deaths=0, Recovered=0, Active=0, Combined_Key='Adair, Missouri, US', CaseFatalityRatio=0.0, Incidence_Rate=''),\n",
       " Row(FIPS=40001, Admin2='Adair', Province_State='Oklahoma', Country_Region='US', Last_Update=None, Lat=35.88494195, Long_=-94.65859267, Confirmed=0, Deaths=0, Recovered=0, Active=0, Combined_Key='Adair, Oklahoma, US', CaseFatalityRatio=None, Incidence_Rate=''),\n",
       " Row(FIPS=8001, Admin2='Adams', Province_State='Colorado', Country_Region='US', Last_Update=None, Lat=39.87432092, Long_=-104.3362578, Confirmed=25, Deaths=0, Recovered=0, Active=0, Combined_Key='Adams, Colorado, US', CaseFatalityRatio=0.0, Incidence_Rate=''),\n",
       " Row(FIPS=16003, Admin2='Adams', Province_State='Idaho', Country_Region='US', Last_Update=None, Lat=44.89333571, Long_=-116.4545247, Confirmed=0, Deaths=0, Recovered=0, Active=0, Combined_Key='Adams, Idaho, US', CaseFatalityRatio=None, Incidence_Rate=''),\n",
       " Row(FIPS=17001, Admin2='Adams', Province_State='Illinois', Country_Region='US', Last_Update=None, Lat=39.98815591, Long_=-91.18786813, Confirmed=1, Deaths=0, Recovered=0, Active=0, Combined_Key='Adams, Illinois, US', CaseFatalityRatio=0.0, Incidence_Rate=''),\n",
       " Row(FIPS=18001, Admin2='Adams', Province_State='Indiana', Country_Region='US', Last_Update=None, Lat=40.7457653, Long_=-84.93671406, Confirmed=1, Deaths=0, Recovered=0, Active=0, Combined_Key='Adams, Indiana, US', CaseFatalityRatio=0.0, Incidence_Rate=''),\n",
       " Row(FIPS=19003, Admin2='Adams', Province_State='Iowa', Country_Region='US', Last_Update=None, Lat=41.02903567, Long_=-94.69932645, Confirmed=0, Deaths=0, Recovered=0, Active=0, Combined_Key='Adams, Iowa, US', CaseFatalityRatio=None, Incidence_Rate=''),\n",
       " Row(FIPS=28001, Admin2='Adams', Province_State='Mississippi', Country_Region='US', Last_Update=None, Lat=31.47669768, Long_=-91.35326037, Confirmed=2, Deaths=0, Recovered=0, Active=0, Combined_Key='Adams, Mississippi, US', CaseFatalityRatio=0.0, Incidence_Rate=''),\n",
       " Row(FIPS=31001, Admin2='Adams', Province_State='Nebraska', Country_Region='US', Last_Update=None, Lat=40.52449420000001, Long_=-98.50117804, Confirmed=1, Deaths=0, Recovered=0, Active=0, Combined_Key='Adams, Nebraska, US', CaseFatalityRatio=0.0, Incidence_Rate=''),\n",
       " Row(FIPS=38001, Admin2='Adams', Province_State='North Dakota', Country_Region='US', Last_Update=None, Lat=46.09686891, Long_=-102.5285397, Confirmed=0, Deaths=0, Recovered=0, Active=0, Combined_Key='Adams, North Dakota, US', CaseFatalityRatio=None, Incidence_Rate=''),\n",
       " Row(FIPS=39001, Admin2='Adams', Province_State='Ohio', Country_Region='US', Last_Update=None, Lat=38.84541072, Long_=-83.4718964, Confirmed=0, Deaths=0, Recovered=0, Active=0, Combined_Key='Adams, Ohio, US', CaseFatalityRatio=None, Incidence_Rate=''),\n",
       " Row(FIPS=42001, Admin2='Adams', Province_State='Pennsylvania', Country_Region='US', Last_Update=None, Lat=39.87140411, Long_=-77.21610347, Confirmed=6, Deaths=0, Recovered=0, Active=0, Combined_Key='Adams, Pennsylvania, US', CaseFatalityRatio=0.0, Incidence_Rate=''),\n",
       " Row(FIPS=53001, Admin2='Adams', Province_State='Washington', Country_Region='US', Last_Update=None, Lat=46.98299757, Long_=-118.56017340000001, Confirmed=1, Deaths=0, Recovered=0, Active=0, Combined_Key='Adams, Washington, US', CaseFatalityRatio=0.0, Incidence_Rate=''),\n",
       " Row(FIPS=55001, Admin2='Adams', Province_State='Wisconsin', Country_Region='US', Last_Update=None, Lat=43.96974651, Long_=-89.76782777, Confirmed=0, Deaths=0, Recovered=0, Active=0, Combined_Key='Adams, Wisconsin, US', CaseFatalityRatio=None, Incidence_Rate=''),\n",
       " Row(FIPS=50001, Admin2='Addison', Province_State='Vermont', Country_Region='US', Last_Update=None, Lat=44.03217337, Long_=-73.14130877, Confirmed=8, Deaths=0, Recovered=0, Active=0, Combined_Key='Addison, Vermont, US', CaseFatalityRatio=0.0, Incidence_Rate=''),\n",
       " Row(FIPS=45003, Admin2='Aiken', Province_State='South Carolina', Country_Region='US', Last_Update=None, Lat=33.54338026, Long_=-81.63645384, Confirmed=2, Deaths=0, Recovered=0, Active=0, Combined_Key='Aiken, South Carolina, US', CaseFatalityRatio=0.0, Incidence_Rate=''),\n",
       " Row(FIPS=27001, Admin2='Aitkin', Province_State='Minnesota', Country_Region='US', Last_Update=None, Lat=46.60962049, Long_=-93.41168259999999, Confirmed=0, Deaths=0, Recovered=0, Active=0, Combined_Key='Aitkin, Minnesota, US', CaseFatalityRatio=None, Incidence_Rate=''),\n",
       " Row(FIPS=12001, Admin2='Alachua', Province_State='Florida', Country_Region='US', Last_Update=None, Lat=29.67866525, Long_=-82.35928158, Confirmed=37, Deaths=0, Recovered=0, Active=0, Combined_Key='Alachua, Florida, US', CaseFatalityRatio=0.0, Incidence_Rate=''),\n",
       " Row(FIPS=37001, Admin2='Alamance', Province_State='North Carolina', Country_Region='US', Last_Update=None, Lat=36.0434701, Long_=-79.39976137, Confirmed=3, Deaths=0, Recovered=0, Active=0, Combined_Key='Alamance, North Carolina, US', CaseFatalityRatio=0.0, Incidence_Rate=''),\n",
       " Row(FIPS=6001, Admin2='Alameda', Province_State='California', Country_Region='US', Last_Update=None, Lat=37.64629437, Long_=-121.8929271, Confirmed=135, Deaths=2, Recovered=0, Active=0, Combined_Key='Alameda, California, US', CaseFatalityRatio=1.4814814814814816, Incidence_Rate=''),\n",
       " Row(FIPS=8003, Admin2='Alamosa', Province_State='Colorado', Country_Region='US', Last_Update=None, Lat=37.57250606, Long_=-105.7885451, Confirmed=0, Deaths=0, Recovered=0, Active=0, Combined_Key='Alamosa, Colorado, US', CaseFatalityRatio=None, Incidence_Rate=''),\n",
       " Row(FIPS=36001, Admin2='Albany', Province_State='New York', Country_Region='US', Last_Update=None, Lat=42.60060306, Long_=-73.97723916, Confirmed=146, Deaths=0, Recovered=0, Active=0, Combined_Key='Albany, New York, US', CaseFatalityRatio=0.0, Incidence_Rate=''),\n",
       " Row(FIPS=56001, Admin2='Albany', Province_State='Wyoming', Country_Region='US', Last_Update=None, Lat=41.65498705, Long_=-105.72354150000001, Confirmed=0, Deaths=0, Recovered=0, Active=0, Combined_Key='Albany, Wyoming, US', CaseFatalityRatio=None, Incidence_Rate=''),\n",
       " Row(FIPS=51003, Admin2='Albemarle', Province_State='Virginia', Country_Region='US', Last_Update=None, Lat=38.02080697, Long_=-78.55481085, Confirmed=2, Deaths=0, Recovered=0, Active=0, Combined_Key='Albemarle, Virginia, US', CaseFatalityRatio=0.0, Incidence_Rate=''),\n",
       " Row(FIPS=26001, Admin2='Alcona', Province_State='Michigan', Country_Region='US', Last_Update=None, Lat=44.6846864, Long_=-83.59507875, Confirmed=0, Deaths=0, Recovered=0, Active=0, Combined_Key='Alcona, Michigan, US', CaseFatalityRatio=None, Incidence_Rate=''),\n",
       " Row(FIPS=28003, Admin2='Alcorn', Province_State='Mississippi', Country_Region='US', Last_Update=None, Lat=34.88084463, Long_=-88.57996173, Confirmed=0, Deaths=0, Recovered=0, Active=0, Combined_Key='Alcorn, Mississippi, US', CaseFatalityRatio=None, Incidence_Rate=''),\n",
       " Row(FIPS=2013, Admin2='Aleutians East', Province_State='Alaska', Country_Region='US', Last_Update=None, Lat=55.32222414, Long_=-161.9722021, Confirmed=0, Deaths=0, Recovered=0, Active=0, Combined_Key='Aleutians East, Alaska, US', CaseFatalityRatio=None, Incidence_Rate=''),\n",
       " Row(FIPS=2016, Admin2='Aleutians West', Province_State='Alaska', Country_Region='US', Last_Update=None, Lat=52.72541116, Long_=-110.4086433, Confirmed=0, Deaths=0, Recovered=0, Active=0, Combined_Key='Aleutians West, Alaska, US', CaseFatalityRatio=None, Incidence_Rate=''),\n",
       " Row(FIPS=17003, Admin2='Alexander', Province_State='Illinois', Country_Region='US', Last_Update=None, Lat=37.18049267, Long_=-89.32910838, Confirmed=0, Deaths=0, Recovered=0, Active=0, Combined_Key='Alexander, Illinois, US', CaseFatalityRatio=None, Incidence_Rate=''),\n",
       " Row(FIPS=37003, Admin2='Alexander', Province_State='North Carolina', Country_Region='US', Last_Update=None, Lat=35.922379600000006, Long_=-81.17751948, Confirmed=0, Deaths=0, Recovered=0, Active=0, Combined_Key='Alexander, North Carolina, US', CaseFatalityRatio=None, Incidence_Rate=''),\n",
       " Row(FIPS=51510, Admin2='Alexandria', Province_State='Virginia', Country_Region='US', Last_Update=None, Lat=38.814003, Long_=-77.08183073, Confirmed=8, Deaths=0, Recovered=0, Active=0, Combined_Key='Alexandria, Virginia, US', CaseFatalityRatio=0.0, Incidence_Rate=''),\n",
       " Row(FIPS=40003, Admin2='Alfalfa', Province_State='Oklahoma', Country_Region='US', Last_Update=None, Lat=36.73090616, Long_=-98.32408495, Confirmed=0, Deaths=0, Recovered=0, Active=0, Combined_Key='Alfalfa, Oklahoma, US', CaseFatalityRatio=None, Incidence_Rate=''),\n",
       " Row(FIPS=26003, Admin2='Alger', Province_State='Michigan', Country_Region='US', Last_Update=None, Lat=46.41292944, Long_=-86.60260122, Confirmed=0, Deaths=0, Recovered=0, Active=0, Combined_Key='Alger, Michigan, US', CaseFatalityRatio=None, Incidence_Rate=''),\n",
       " Row(FIPS=19005, Admin2='Allamakee', Province_State='Iowa', Country_Region='US', Last_Update=None, Lat=43.28383218, Long_=-91.37860922, Confirmed=6, Deaths=0, Recovered=0, Active=0, Combined_Key='Allamakee, Iowa, US', CaseFatalityRatio=0.0, Incidence_Rate=''),\n",
       " Row(FIPS=26005, Admin2='Allegan', Province_State='Michigan', Country_Region='US', Last_Update=None, Lat=42.59147037, Long_=-85.89102866, Confirmed=1, Deaths=0, Recovered=0, Active=0, Combined_Key='Allegan, Michigan, US', CaseFatalityRatio=0.0, Incidence_Rate=''),\n",
       " Row(FIPS=24001, Admin2='Allegany', Province_State='Maryland', Country_Region='US', Last_Update=None, Lat=39.62357628, Long_=-78.69280486, Confirmed=0, Deaths=0, Recovered=0, Active=0, Combined_Key='Allegany, Maryland, US', CaseFatalityRatio=None, Incidence_Rate=''),\n",
       " Row(FIPS=36003, Admin2='Allegany', Province_State='New York', Country_Region='US', Last_Update=None, Lat=42.25748406, Long_=-78.02750466, Confirmed=2, Deaths=0, Recovered=0, Active=0, Combined_Key='Allegany, New York, US', CaseFatalityRatio=0.0, Incidence_Rate=''),\n",
       " Row(FIPS=37005, Admin2='Alleghany', Province_State='North Carolina', Country_Region='US', Last_Update=None, Lat=36.49360862, Long_=-81.12857041, Confirmed=0, Deaths=0, Recovered=0, Active=0, Combined_Key='Alleghany, North Carolina, US', CaseFatalityRatio=None, Incidence_Rate=''),\n",
       " Row(FIPS=51005, Admin2='Alleghany', Province_State='Virginia', Country_Region='US', Last_Update=None, Lat=37.78636074, Long_=-80.00222498, Confirmed=0, Deaths=0, Recovered=0, Active=0, Combined_Key='Alleghany, Virginia, US', CaseFatalityRatio=None, Incidence_Rate=''),\n",
       " Row(FIPS=42003, Admin2='Allegheny', Province_State='Pennsylvania', Country_Region='US', Last_Update=None, Lat=40.46809875, Long_=-79.98167747, Confirmed=58, Deaths=2, Recovered=0, Active=0, Combined_Key='Allegheny, Pennsylvania, US', CaseFatalityRatio=3.4482758620689653, Incidence_Rate=''),\n",
       " Row(FIPS=18003, Admin2='Allen', Province_State='Indiana', Country_Region='US', Last_Update=None, Lat=41.09194313, Long_=-85.06800636, Confirmed=7, Deaths=1, Recovered=0, Active=0, Combined_Key='Allen, Indiana, US', CaseFatalityRatio=14.285714285714285, Incidence_Rate=''),\n",
       " Row(FIPS=20001, Admin2='Allen', Province_State='Kansas', Country_Region='US', Last_Update=None, Lat=37.88582951, Long_=-95.30030847, Confirmed=0, Deaths=0, Recovered=0, Active=0, Combined_Key='Allen, Kansas, US', CaseFatalityRatio=None, Incidence_Rate=''),\n",
       " Row(FIPS=21003, Admin2='Allen', Province_State='Kentucky', Country_Region='US', Last_Update=None, Lat=36.75197631, Long_=-86.19457544, Confirmed=0, Deaths=0, Recovered=0, Active=0, Combined_Key='Allen, Kentucky, US', CaseFatalityRatio=None, Incidence_Rate=''),\n",
       " Row(FIPS=22003, Admin2='Allen', Province_State='Louisiana', Country_Region='US', Last_Update=None, Lat=30.65385745, Long_=-92.82442028, Confirmed=2, Deaths=0, Recovered=0, Active=0, Combined_Key='Allen, Louisiana, US', CaseFatalityRatio=0.0, Incidence_Rate=''),\n",
       " Row(FIPS=39003, Admin2='Allen', Province_State='Ohio', Country_Region='US', Last_Update=None, Lat=40.77285242, Long_=-84.10802343, Confirmed=0, Deaths=0, Recovered=0, Active=0, Combined_Key='Allen, Ohio, US', CaseFatalityRatio=None, Incidence_Rate=''),\n",
       " Row(FIPS=45005, Admin2='Allendale', Province_State='South Carolina', Country_Region='US', Last_Update=None, Lat=32.98837386, Long_=-81.35321066, Confirmed=0, Deaths=0, Recovered=0, Active=0, Combined_Key='Allendale, South Carolina, US', CaseFatalityRatio=None, Incidence_Rate=''),\n",
       " Row(FIPS=26007, Admin2='Alpena', Province_State='Michigan', Country_Region='US', Last_Update=None, Lat=45.03477666, Long_=-83.62212411, Confirmed=0, Deaths=0, Recovered=0, Active=0, Combined_Key='Alpena, Michigan, US', CaseFatalityRatio=None, Incidence_Rate=''),\n",
       " Row(FIPS=6003, Admin2='Alpine', Province_State='California', Country_Region='US', Last_Update=None, Lat=38.59678594, Long_=-119.82235940000001, Confirmed=0, Deaths=0, Recovered=0, Active=0, Combined_Key='Alpine, California, US', CaseFatalityRatio=None, Incidence_Rate=''),\n",
       " Row(FIPS=6005, Admin2='Amador', Province_State='California', Country_Region='US', Last_Update=None, Lat=38.44583082, Long_=-120.65696000000001, Confirmed=2, Deaths=0, Recovered=0, Active=0, Combined_Key='Amador, California, US', CaseFatalityRatio=0.0, Incidence_Rate=''),\n",
       " Row(FIPS=51007, Admin2='Amelia', Province_State='Virginia', Country_Region='US', Last_Update=None, Lat=37.34081025, Long_=-77.98584649, Confirmed=0, Deaths=0, Recovered=0, Active=0, Combined_Key='Amelia, Virginia, US', CaseFatalityRatio=None, Incidence_Rate=''),\n",
       " Row(FIPS=51009, Admin2='Amherst', Province_State='Virginia', Country_Region='US', Last_Update=None, Lat=37.60308293, Long_=-79.14548696, Confirmed=1, Deaths=0, Recovered=0, Active=0, Combined_Key='Amherst, Virginia, US', CaseFatalityRatio=0.0, Incidence_Rate=''),\n",
       " Row(FIPS=28005, Admin2='Amite', Province_State='Mississippi', Country_Region='US', Last_Update=None, Lat=31.17467303, Long_=-90.80501621, Confirmed=0, Deaths=0, Recovered=0, Active=0, Combined_Key='Amite, Mississippi, US', CaseFatalityRatio=None, Incidence_Rate=''),\n",
       " Row(FIPS=2020, Admin2='Anchorage', Province_State='Alaska', Country_Region='US', Last_Update=None, Lat=61.14998174, Long_=-149.14269860000005, Confirmed=17, Deaths=0, Recovered=0, Active=0, Combined_Key='Anchorage, Alaska, US', CaseFatalityRatio=0.0, Incidence_Rate=''),\n",
       " Row(FIPS=20003, Admin2='Anderson', Province_State='Kansas', Country_Region='US', Last_Update=None, Lat=38.21413251, Long_=-95.29272815, Confirmed=0, Deaths=0, Recovered=0, Active=0, Combined_Key='Anderson, Kansas, US', CaseFatalityRatio=None, Incidence_Rate=''),\n",
       " Row(FIPS=21005, Admin2='Anderson', Province_State='Kentucky', Country_Region='US', Last_Update=None, Lat=38.00671029, Long_=-84.99171713, Confirmed=2, Deaths=1, Recovered=0, Active=0, Combined_Key='Anderson, Kentucky, US', CaseFatalityRatio=50.0, Incidence_Rate=''),\n",
       " Row(FIPS=45007, Admin2='Anderson', Province_State='South Carolina', Country_Region='US', Last_Update=None, Lat=34.51828081, Long_=-82.63959517, Confirmed=16, Deaths=0, Recovered=0, Active=0, Combined_Key='Anderson, South Carolina, US', CaseFatalityRatio=0.0, Incidence_Rate=''),\n",
       " Row(FIPS=47001, Admin2='Anderson', Province_State='Tennessee', Country_Region='US', Last_Update=None, Lat=36.12684348, Long_=-84.19965764, Confirmed=1, Deaths=0, Recovered=0, Active=0, Combined_Key='Anderson, Tennessee, US', CaseFatalityRatio=0.0, Incidence_Rate=''),\n",
       " Row(FIPS=48001, Admin2='Anderson', Province_State='Texas', Country_Region='US', Last_Update=None, Lat=31.81534745, Long_=-95.65354823, Confirmed=0, Deaths=0, Recovered=0, Active=0, Combined_Key='Anderson, Texas, US', CaseFatalityRatio=None, Incidence_Rate=''),\n",
       " Row(FIPS=29003, Admin2='Andrew', Province_State='Missouri', Country_Region='US', Last_Update=None, Lat=39.98492163, Long_=-94.80163024, Confirmed=0, Deaths=0, Recovered=0, Active=0, Combined_Key='Andrew, Missouri, US', CaseFatalityRatio=None, Incidence_Rate=''),\n",
       " Row(FIPS=48003, Admin2='Andrews', Province_State='Texas', Country_Region='US', Last_Update=None, Lat=32.30468633, Long_=-102.63765479999999, Confirmed=0, Deaths=0, Recovered=0, Active=0, Combined_Key='Andrews, Texas, US', CaseFatalityRatio=None, Incidence_Rate=''),\n",
       " Row(FIPS=23001, Admin2='Androscoggin', Province_State='Maine', Country_Region='US', Last_Update=None, Lat=44.1664747, Long_=-70.20380627, Confirmed=3, Deaths=0, Recovered=0, Active=0, Combined_Key='Androscoggin, Maine, US', CaseFatalityRatio=0.0, Incidence_Rate=''),\n",
       " Row(FIPS=48005, Admin2='Angelina', Province_State='Texas', Country_Region='US', Last_Update=None, Lat=31.25457347, Long_=-94.60901487, Confirmed=0, Deaths=0, Recovered=0, Active=0, Combined_Key='Angelina, Texas, US', CaseFatalityRatio=None, Incidence_Rate=''),\n",
       " Row(FIPS=24003, Admin2='Anne Arundel', Province_State='Maryland', Country_Region='US', Last_Update=None, Lat=39.00670238, Long_=-76.60329337, Confirmed=24, Deaths=0, Recovered=0, Active=0, Combined_Key='Anne Arundel, Maryland, US', CaseFatalityRatio=0.0, Incidence_Rate=''),\n",
       " Row(FIPS=27003, Admin2='Anoka', Province_State='Minnesota', Country_Region='US', Last_Update=None, Lat=45.27476015, Long_=-93.24604565, Confirmed=7, Deaths=0, Recovered=0, Active=0, Combined_Key='Anoka, Minnesota, US', CaseFatalityRatio=0.0, Incidence_Rate=''),\n",
       " Row(FIPS=37007, Admin2='Anson', Province_State='North Carolina', Country_Region='US', Last_Update=None, Lat=34.97403241, Long_=-80.09953279, Confirmed=0, Deaths=0, Recovered=0, Active=0, Combined_Key='Anson, North Carolina, US', CaseFatalityRatio=None, Incidence_Rate=''),\n",
       " Row(FIPS=31003, Admin2='Antelope', Province_State='Nebraska', Country_Region='US', Last_Update=None, Lat=42.17695516, Long_=-98.06662829999999, Confirmed=0, Deaths=0, Recovered=0, Active=0, Combined_Key='Antelope, Nebraska, US', CaseFatalityRatio=None, Incidence_Rate=''),\n",
       " Row(FIPS=26009, Admin2='Antrim', Province_State='Michigan', Country_Region='US', Last_Update=None, Lat=44.99690221, Long_=-85.15503082, Confirmed=0, Deaths=0, Recovered=0, Active=0, Combined_Key='Antrim, Michigan, US', CaseFatalityRatio=None, Incidence_Rate=''),\n",
       " Row(FIPS=4001, Admin2='Apache', Province_State='Arizona', Country_Region='US', Last_Update=None, Lat=35.39465006, Long_=-109.4892383, Confirmed=4, Deaths=0, Recovered=0, Active=0, Combined_Key='Apache, Arizona, US', CaseFatalityRatio=0.0, Incidence_Rate=''),\n",
       " Row(FIPS=19007, Admin2='Appanoose', Province_State='Iowa', Country_Region='US', Last_Update=None, Lat=40.74324454, Long_=-92.86865906, Confirmed=0, Deaths=0, Recovered=0, Active=0, Combined_Key='Appanoose, Iowa, US', CaseFatalityRatio=None, Incidence_Rate=''),\n",
       " Row(FIPS=13001, Admin2='Appling', Province_State='Georgia', Country_Region='US', Last_Update=None, Lat=31.74847232, Long_=-82.28909114, Confirmed=0, Deaths=0, Recovered=0, Active=0, Combined_Key='Appling, Georgia, US', CaseFatalityRatio=None, Incidence_Rate=''),\n",
       " Row(FIPS=51011, Admin2='Appomattox', Province_State='Virginia', Country_Region='US', Last_Update=None, Lat=37.37569884, Long_=-78.81340003, Confirmed=0, Deaths=0, Recovered=0, Active=0, Combined_Key='Appomattox, Virginia, US', CaseFatalityRatio=None, Incidence_Rate=''),\n",
       " Row(FIPS=48007, Admin2='Aransas', Province_State='Texas', Country_Region='US', Last_Update=None, Lat=28.10556197, Long_=-96.9995047, Confirmed=0, Deaths=0, Recovered=0, Active=0, Combined_Key='Aransas, Texas, US', CaseFatalityRatio=None, Incidence_Rate=''),\n",
       " Row(FIPS=8005, Admin2='Arapahoe', Province_State='Colorado', Country_Region='US', Last_Update=None, Lat=39.64977461, Long_=-104.3353617, Confirmed=58, Deaths=0, Recovered=0, Active=0, Combined_Key='Arapahoe, Colorado, US', CaseFatalityRatio=0.0, Incidence_Rate=''),\n",
       " Row(FIPS=48009, Admin2='Archer', Province_State='Texas', Country_Region='US', Last_Update=None, Lat=33.61569967, Long_=-98.68754589, Confirmed=0, Deaths=0, Recovered=0, Active=0, Combined_Key='Archer, Texas, US', CaseFatalityRatio=None, Incidence_Rate=''),\n",
       " Row(FIPS=8007, Admin2='Archuleta', Province_State='Colorado', Country_Region='US', Last_Update=None, Lat=37.19474156, Long_=-107.04768670000001, Confirmed=0, Deaths=0, Recovered=0, Active=0, Combined_Key='Archuleta, Colorado, US', CaseFatalityRatio=None, Incidence_Rate=''),\n",
       " Row(FIPS=26011, Admin2='Arenac', Province_State='Michigan', Country_Region='US', Last_Update=None, Lat=44.0636262, Long_=-83.89277559, Confirmed=0, Deaths=0, Recovered=0, Active=0, Combined_Key='Arenac, Michigan, US', CaseFatalityRatio=None, Incidence_Rate=''),\n",
       " Row(FIPS=5001, Admin2='Arkansas', Province_State='Arkansas', Country_Region='US', Last_Update=None, Lat=34.29145151, Long_=-91.37277296, Confirmed=0, Deaths=0, Recovered=0, Active=0, Combined_Key='Arkansas, Arkansas, US', CaseFatalityRatio=None, Incidence_Rate=''),\n",
       " Row(FIPS=51013, Admin2='Arlington', Province_State='Virginia', Country_Region='US', Last_Update=None, Lat=38.8767675, Long_=-77.10139853, Confirmed=36, Deaths=0, Recovered=0, Active=0, Combined_Key='Arlington, Virginia, US', CaseFatalityRatio=0.0, Incidence_Rate=''),\n",
       " Row(FIPS=42005, Admin2='Armstrong', Province_State='Pennsylvania', Country_Region='US', Last_Update=None, Lat=40.81665618, Long_=-79.46290811, Confirmed=1, Deaths=0, Recovered=0, Active=0, Combined_Key='Armstrong, Pennsylvania, US', CaseFatalityRatio=0.0, Incidence_Rate=''),\n",
       " Row(FIPS=48011, Admin2='Armstrong', Province_State='Texas', Country_Region='US', Last_Update=None, Lat=34.96507426, Long_=-101.35748740000001, Confirmed=0, Deaths=0, Recovered=0, Active=0, Combined_Key='Armstrong, Texas, US', CaseFatalityRatio=None, Incidence_Rate=''),\n",
       " Row(FIPS=23003, Admin2='Aroostook', Province_State='Maine', Country_Region='US', Last_Update=None, Lat=46.65926321, Long_=-68.59841248, Confirmed=0, Deaths=0, Recovered=0, Active=0, Combined_Key='Aroostook, Maine, US', CaseFatalityRatio=None, Incidence_Rate=''),\n",
       " Row(FIPS=31005, Admin2='Arthur', Province_State='Nebraska', Country_Region='US', Last_Update=None, Lat=41.56896142, Long_=-101.6959559, Confirmed=0, Deaths=0, Recovered=0, Active=0, Combined_Key='Arthur, Nebraska, US', CaseFatalityRatio=None, Incidence_Rate=''),\n",
       " Row(FIPS=22005, Admin2='Ascension', Province_State='Louisiana', Country_Region='US', Last_Update=None, Lat=30.20406249, Long_=-90.91328409999998, Confirmed=36, Deaths=1, Recovered=0, Active=0, Combined_Key='Ascension, Louisiana, US', CaseFatalityRatio=2.7777777777777777, Incidence_Rate=''),\n",
       " Row(FIPS=37009, Admin2='Ashe', Province_State='North Carolina', Country_Region='US', Last_Update=None, Lat=36.43296207, Long_=-81.49862729, Confirmed=0, Deaths=0, Recovered=0, Active=0, Combined_Key='Ashe, North Carolina, US', CaseFatalityRatio=None, Incidence_Rate=''),\n",
       " Row(FIPS=39005, Admin2='Ashland', Province_State='Ohio', Country_Region='US', Last_Update=None, Lat=40.84772277, Long_=-82.27280781, Confirmed=1, Deaths=0, Recovered=0, Active=0, Combined_Key='Ashland, Ohio, US', CaseFatalityRatio=0.0, Incidence_Rate=''),\n",
       " Row(FIPS=55003, Admin2='Ashland', Province_State='Wisconsin', Country_Region='US', Last_Update=None, Lat=46.31956891, Long_=-90.67837132, Confirmed=0, Deaths=0, Recovered=0, Active=0, Combined_Key='Ashland, Wisconsin, US', CaseFatalityRatio=None, Incidence_Rate=''),\n",
       " Row(FIPS=5003, Admin2='Ashley', Province_State='Arkansas', Country_Region='US', Last_Update=None, Lat=33.19153461, Long_=-91.76984709999999, Confirmed=0, Deaths=0, Recovered=0, Active=0, Combined_Key='Ashley, Arkansas, US', CaseFatalityRatio=None, Incidence_Rate=''),\n",
       " Row(FIPS=39007, Admin2='Ashtabula', Province_State='Ohio', Country_Region='US', Last_Update=None, Lat=41.70860332, Long_=-80.74830218, Confirmed=3, Deaths=0, Recovered=0, Active=0, Combined_Key='Ashtabula, Ohio, US', CaseFatalityRatio=0.0, Incidence_Rate=''),\n",
       " Row(FIPS=53003, Admin2='Asotin', Province_State='Washington', Country_Region='US', Last_Update=None, Lat=46.18894415, Long_=-117.2022851, Confirmed=0, Deaths=0, Recovered=0, Active=0, Combined_Key='Asotin, Washington, US', CaseFatalityRatio=None, Incidence_Rate=''),\n",
       " Row(FIPS=22007, Admin2='Assumption', Province_State='Louisiana', Country_Region='US', Last_Update=None, Lat=29.89946234, Long_=-91.06461642, Confirmed=2, Deaths=0, Recovered=0, Active=0, Combined_Key='Assumption, Louisiana, US', CaseFatalityRatio=0.0, Incidence_Rate=''),\n",
       " Row(FIPS=48013, Admin2='Atascosa', Province_State='Texas', Country_Region='US', Last_Update=None, Lat=28.89333001, Long_=-98.52730485, Confirmed=2, Deaths=0, Recovered=0, Active=0, Combined_Key='Atascosa, Texas, US', CaseFatalityRatio=0.0, Incidence_Rate=''),\n",
       " Row(FIPS=20005, Admin2='Atchison', Province_State='Kansas', Country_Region='US', Last_Update=None, Lat=39.53185661, Long_=-95.30870026, Confirmed=0, Deaths=0, Recovered=0, Active=0, Combined_Key='Atchison, Kansas, US', CaseFatalityRatio=None, Incidence_Rate=''),\n",
       " Row(FIPS=29005, Admin2='Atchison', Province_State='Missouri', Country_Region='US', Last_Update=None, Lat=40.43238737, Long_=-95.42970639, Confirmed=0, Deaths=0, Recovered=0, Active=0, Combined_Key='Atchison, Missouri, US', CaseFatalityRatio=None, Incidence_Rate=''),\n",
       " Row(FIPS=39009, Admin2='Athens', Province_State='Ohio', Country_Region='US', Last_Update=None, Lat=39.33425634, Long_=-82.04278644, Confirmed=0, Deaths=0, Recovered=0, Active=0, Combined_Key='Athens, Ohio, US', CaseFatalityRatio=None, Incidence_Rate='')]"
      ]
     },
     "execution_count": 15,
     "metadata": {},
     "output_type": "execute_result"
    }
   ],
   "source": [
    "df2.head(100)"
   ]
  },
  {
   "cell_type": "code",
   "execution_count": 16,
   "id": "c946d0c3",
   "metadata": {},
   "outputs": [
    {
     "name": "stdout",
     "output_type": "stream",
     "text": [
      "root\n",
      " |-- FIPS: integer (nullable = true)\n",
      " |-- Admin2: string (nullable = true)\n",
      " |-- Province_State: string (nullable = true)\n",
      " |-- Country_Region: string (nullable = true)\n",
      " |-- Last_Update: date (nullable = true)\n",
      " |-- Lat: double (nullable = true)\n",
      " |-- Long_: double (nullable = true)\n",
      " |-- Confirmed: integer (nullable = true)\n",
      " |-- Deaths: integer (nullable = true)\n",
      " |-- Recovered: integer (nullable = true)\n",
      " |-- Active: integer (nullable = true)\n",
      " |-- Combined_Key: string (nullable = true)\n",
      " |-- CaseFatalityRatio: double (nullable = true)\n",
      " |-- Incidence_Rate: string (nullable = false)\n",
      "\n"
     ]
    }
   ],
   "source": [
    "df2.printSchema()"
   ]
  },
  {
   "cell_type": "code",
   "execution_count": 17,
   "id": "5d02d980",
   "metadata": {},
   "outputs": [],
   "source": [
    "df2 = df2.select(col('Province_State').alias('State'), \\\n",
    "                         col('Country_Region').alias('Country'), \\\n",
    "                         col('Last_Update').alias('Date'), \\\n",
    "                         col('Lat').alias('Latitude'), \\\n",
    "                         col('Long_').alias('Longitude'), \\\n",
    "                         col('Confirmed'), \\\n",
    "                         col('Deaths'), \\\n",
    "                         col('Recovered'), \\\n",
    "                         col('Active'), \\\n",
    "                         col('Incidence_Rate'), \\\n",
    "                         col('CaseFatalityRatio'), \\\n",
    "                         col('Combined_Key'))"
   ]
  },
  {
   "cell_type": "code",
   "execution_count": 19,
   "id": "4daa60d8",
   "metadata": {},
   "outputs": [
    {
     "data": {
      "text/plain": [
       "DataFrame[State: string, Country: string, Date: date, Latitude: double, Longitude: double, Confirmed: int, Deaths: int, Recovered: int, Active: int, Incidence_Rate: string, CaseFatalityRatio: double, Combined_Key: string, newConfirmed: int]"
      ]
     },
     "execution_count": 19,
     "metadata": {},
     "output_type": "execute_result"
    }
   ],
   "source": [
    "window = Window.partitionBy(\"Country\",\"State\").orderBy(\"Date\")\n",
    "\n",
    "data = F.col(\"Confirmed\") - F.coalesce(F.lag(F.col(\"Confirmed\")).over(window), F.lit(0))\n",
    "df2.withColumn(\"newConfirmed\", data)"
   ]
  },
  {
   "cell_type": "code",
   "execution_count": 24,
   "id": "1dc40ae4",
   "metadata": {},
   "outputs": [
    {
     "data": {
      "text/plain": [
       "Column<'(Confirmed - coalesce(lag(Confirmed, 1, NULL) OVER (PARTITION BY Country, State ORDER BY Date ASC NULLS FIRST unspecifiedframe$()), 0))'>"
      ]
     },
     "execution_count": 24,
     "metadata": {},
     "output_type": "execute_result"
    }
   ],
   "source": [
    "data"
   ]
  },
  {
   "cell_type": "code",
   "execution_count": null,
   "id": "ce383b77",
   "metadata": {},
   "outputs": [],
   "source": [
    "output_schema = StructType() \\\n",
    "      .add(\"State\",StringType(),True) \\\n",
    "      .add(\"Country\",StringType(),True) \\\n",
    "      .add(\"Date\",DateType(),True) \\\n",
    "      .add(\"Latitude\",DoubleType(),True) \\\n",
    "      .add(\"Longitude\",DoubleType(),True) \\\n",
    "      .add(\"Confirmed\",IntegerType(),True) \\\n",
    "      .add(\"Deaths\",IntegerType(),True) \\\n",
    "      .add(\"Recovered\",IntegerType(),True) \\\n",
    "      .add(\"Active\",IntegerType(),True) \\\n",
    "      .add(\"IncidentRate\",DoubleType(),True) \\\n",
    "      .add(\"CaseFatalityRatio\",DoubleType(),True) \\\n",
    "      .add(\"CombinedKey\",StringType(),True)"
   ]
  },
  {
   "cell_type": "code",
   "execution_count": null,
   "id": "ae953a79",
   "metadata": {},
   "outputs": [],
   "source": [
    "output_data.head(10)"
   ]
  },
  {
   "cell_type": "code",
   "execution_count": null,
   "id": "ffce0152",
   "metadata": {},
   "outputs": [],
   "source": [
    "df2.write \\\n",
    "    .format(\"com.databricks.spark.csv\") \\\n",
    "    .option(\"header\",True) \\\n",
    "    .option(\"escape\", \"\") \\\n",
    "    .option(\"quote\", \"\") \\\n",
    "    .option(\"emptyValue\", \"\") \\\n",
    "    .option(\"delimiter\", \";\") \\\n",
    "    .save(\"out/spark_output\")"
   ]
  },
  {
   "cell_type": "code",
   "execution_count": null,
   "id": "7c66864b",
   "metadata": {},
   "outputs": [],
   "source": [
    "df2.dtypes()"
   ]
  },
  {
   "cell_type": "code",
   "execution_count": null,
   "id": "54d59043",
   "metadata": {},
   "outputs": [],
   "source": []
  },
  {
   "cell_type": "code",
   "execution_count": null,
   "id": "f1a3ca38",
   "metadata": {},
   "outputs": [],
   "source": []
  },
  {
   "cell_type": "code",
   "execution_count": null,
   "id": "9e086d4f",
   "metadata": {},
   "outputs": [],
   "source": []
  },
  {
   "cell_type": "code",
   "execution_count": null,
   "id": "c96b9b25",
   "metadata": {},
   "outputs": [],
   "source": []
  }
 ],
 "metadata": {
  "kernelspec": {
   "display_name": "Python 3",
   "language": "python",
   "name": "python3"
  },
  "language_info": {
   "codemirror_mode": {
    "name": "ipython",
    "version": 3
   },
   "file_extension": ".py",
   "mimetype": "text/x-python",
   "name": "python",
   "nbconvert_exporter": "python",
   "pygments_lexer": "ipython3",
   "version": "3.9.1"
  }
 },
 "nbformat": 4,
 "nbformat_minor": 5
}
