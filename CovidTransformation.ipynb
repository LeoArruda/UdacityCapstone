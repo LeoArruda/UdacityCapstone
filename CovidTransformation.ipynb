{
 "cells": [
  {
   "cell_type": "code",
   "execution_count": 1,
   "id": "9076194b",
   "metadata": {},
   "outputs": [],
   "source": [
    "import pandas as pd\n",
    "from pyspark.sql import SparkSession\n",
    "from pyspark.sql.types import StructField,StringType\n",
    "from pyspark.sql.types import StructType,StructField, StringType, IntegerType \n",
    "from pyspark.sql.types import ArrayType, DoubleType, BooleanType, DateType\n",
    "from pyspark.sql.functions import udf, col, array_contains, when, concat_ws, to_date\n",
    "from pyspark.sql.functions import to_timestamp, lit, date_format, trim, coalesce, length\n",
    "from pyspark.sql.window import Window\n",
    "import pyspark.sql.functions as F"
   ]
  },
  {
   "cell_type": "code",
   "execution_count": null,
   "id": "52602f86",
   "metadata": {},
   "outputs": [],
   "source": []
  },
  {
   "cell_type": "code",
   "execution_count": 2,
   "id": "680481de",
   "metadata": {},
   "outputs": [],
   "source": [
    "spark = SparkSession \\\n",
    "        .builder \\\n",
    "        .appName(\"Spark Covid Earlier Transformations\") \\\n",
    "        .getOrCreate()"
   ]
  },
  {
   "cell_type": "code",
   "execution_count": 3,
   "id": "83f038dd",
   "metadata": {},
   "outputs": [],
   "source": [
    "# Load dataset from Johns Hopkins University Github page\n",
    "# with command pd.read_csv(\"datafile.csv\")\n",
    "#covid_daily_report = pd.read_csv(\"data/01-23-2020.csv\")\n",
    "covid_daily_report = spark.read \\\n",
    "                    .option(\"header\",True) \\\n",
    "                    .option(\"inferSchema\",True) \\\n",
    "                    .csv(\"data/*.csv\")\n",
    "\n",
    "\n",
    "#                    "
   ]
  },
  {
   "cell_type": "code",
   "execution_count": 4,
   "id": "3a8f6fc5",
   "metadata": {},
   "outputs": [],
   "source": [
    "#covid_daily_report.createOrReplaceTempView(\"cases_table\")"
   ]
  },
  {
   "cell_type": "code",
   "execution_count": 5,
   "id": "9888ea91",
   "metadata": {},
   "outputs": [
    {
     "name": "stdout",
     "output_type": "stream",
     "text": [
      "root\n",
      " |-- FIPS: string (nullable = true)\n",
      " |-- Admin2: string (nullable = true)\n",
      " |-- Province_State: string (nullable = true)\n",
      " |-- Country_Region: string (nullable = true)\n",
      " |-- Last_Update: string (nullable = true)\n",
      " |-- Lat: string (nullable = true)\n",
      " |-- Long_: string (nullable = true)\n",
      " |-- Confirmed: string (nullable = true)\n",
      " |-- Deaths: string (nullable = true)\n",
      " |-- Recovered: string (nullable = true)\n",
      " |-- Active: string (nullable = true)\n",
      " |-- Combined_Key: string (nullable = true)\n",
      " |-- Incident_Rate: string (nullable = true)\n",
      " |-- Case_Fatality_Ratio: string (nullable = true)\n",
      "\n"
     ]
    }
   ],
   "source": [
    "covid_daily_report.printSchema()"
   ]
  },
  {
   "cell_type": "markdown",
   "id": "9b3e03f2",
   "metadata": {},
   "source": [
    "### JHU changed the dataset schema during the time\n",
    "*Initial schema: Province/State,Country/Region,Last Update,Confirmed,Deaths,Recovered*\n",
    "\n",
    "*Second schema: FIPS,Admin2,Province_State,Country_Region,Last_Update,Lat,Long_,Confirmed,Deaths,Recovered,Active,Combined_Key*\n",
    "\n",
    "*Third schema: Province/State,Country/Region,Last Update,Confirmed,Deaths,Recovered,Latitude,Longitude*\n",
    "\n",
    "*Forth schema: FIPS,Admin2,Province_State,Country_Region,Last_Update,Lat,Long_,Confirmed,Deaths,Recovered,Active,Combined_Key,Incidence_Rate,Case-Fatality_Ratio*"
   ]
  },
  {
   "cell_type": "code",
   "execution_count": 6,
   "id": "99b9a2b7",
   "metadata": {},
   "outputs": [],
   "source": [
    "# spark.sql(\"SELECT COUNT(DISTINCT 'Country/Region') AS Country, COUNT(DISTINCT 'Province/State') AS State \\\n",
    "#             FROM cases_table\").show()"
   ]
  },
  {
   "cell_type": "code",
   "execution_count": 7,
   "id": "2cd5a3f4",
   "metadata": {},
   "outputs": [],
   "source": [
    "# print((str(covid_daily_report.columns)))\n",
    "# type(covid_daily_report)\n",
    "# covid_daily_report.head(5)\n"
   ]
  },
  {
   "cell_type": "code",
   "execution_count": 8,
   "id": "2468e64a",
   "metadata": {},
   "outputs": [],
   "source": [
    "df2=covid_daily_report\n",
    "df2= df2 \\\n",
    "        .withColumn(\"Country_Region\", \n",
    "        when(df2[\"Country_Region\"].contains(\"China\"),\"China\")\n",
    "        .otherwise(df2[\"Country_Region\"]))"
   ]
  },
  {
   "cell_type": "code",
   "execution_count": 9,
   "id": "39095348",
   "metadata": {},
   "outputs": [],
   "source": [
    "df2= df2 \\\n",
    "        .withColumn(\"Country_Region\", \n",
    "        when(df2[\"Country_Region\"].contains(\"Republic of Korea\"),\"Korea, South\")\n",
    "        .otherwise(df2[\"Country_Region\"]))"
   ]
  },
  {
   "cell_type": "code",
   "execution_count": 10,
   "id": "f266a8f4",
   "metadata": {},
   "outputs": [],
   "source": [
    "df2= df2 \\\n",
    "        .withColumn(\"Country_Region\", \n",
    "        when(df2[\"Country_Region\"].contains(\"Cote d'Ivoir\"),\"Cote d Ivoir\")\n",
    "        .otherwise(df2[\"Country_Region\"]))"
   ]
  },
  {
   "cell_type": "code",
   "execution_count": 11,
   "id": "68610854",
   "metadata": {},
   "outputs": [],
   "source": [
    "df2= df2 \\\n",
    "        .withColumn(\"Country_Region\", \n",
    "        when(df2[\"Country_Region\"].contains(\"Taiwan*\"),\"Taiwan\")\n",
    "        .otherwise(df2[\"Country_Region\"]))"
   ]
  },
  {
   "cell_type": "code",
   "execution_count": 12,
   "id": "3def1371",
   "metadata": {},
   "outputs": [],
   "source": [
    "df2= df2 \\\n",
    "        .withColumn(\"Combined_Key\", \n",
    "        when(df2[\"Country_Region\"].isNull(),\n",
    "        concat_ws(\", \", df2[\"Province_State\"], df2[\"Country_Region\"]))\n",
    "        .otherwise(df2[\"Combined_Key\"]))\n",
    "df2= df2 \\\n",
    "        .withColumn(\"Combined_Key\", \n",
    "        when(df2[\"Combined_Key\"].contains(\"Taiwan*\"),\"Taiwan\")\n",
    "        .otherwise(df2[\"Combined_Key\"]))"
   ]
  },
  {
   "cell_type": "code",
   "execution_count": 13,
   "id": "b709e318",
   "metadata": {},
   "outputs": [],
   "source": [
    "df2= df2 \\\n",
    "        .withColumn(\"CaseFatalityRatio\", (df2.Deaths/df2.Confirmed)*100)"
   ]
  },
  {
   "cell_type": "code",
   "execution_count": 14,
   "id": "89c6ffe0",
   "metadata": {},
   "outputs": [],
   "source": [
    "if not (StructField(\"Incidence_Rate\",StringType(),True) in df2.schema):\n",
    "    df2= df2 \\\n",
    "        .withColumn(\"Incidence_Rate\", \n",
    "        lit(0.0))"
   ]
  },
  {
   "cell_type": "code",
   "execution_count": 15,
   "id": "b7f0c3ca",
   "metadata": {},
   "outputs": [],
   "source": [
    "# get_datetime = udf(date_convert, TimestampType())\n",
    "# df2 = df2.withColumn(\"Date\", get_datetime('Last_Update'))\n",
    "def dynamic_date(col, frmts=(\"MM/dd/yy HH:mm\", \"yyyy-MM-dd HH:mm:ss\")):\n",
    "    return coalesce(*[to_timestamp(col, i) for i in frmts])"
   ]
  },
  {
   "cell_type": "code",
   "execution_count": 16,
   "id": "229c2c50",
   "metadata": {},
   "outputs": [],
   "source": [
    "# df2 = df2 \\\n",
    "#         .withColumn(\"Last_up\", to_timestamp(\"Last_Update\", \"yyyy-MM-dd HH:mm:ss\"))\n",
    "#         #.drop(\"Last_up\")"
   ]
  },
  {
   "cell_type": "code",
   "execution_count": 17,
   "id": "5ab62c17",
   "metadata": {},
   "outputs": [],
   "source": [
    "# df2 = df2 \\\n",
    "#         .withColumn(\"Last_up\",dynamic_date(col(\"Last_Update\")))\n",
    "\n",
    "df2 = df2.withColumn('Last_date', F.col('Last_Update').cast(\"timestamp\")) "
   ]
  },
  {
   "cell_type": "code",
   "execution_count": 18,
   "id": "1e9241c7",
   "metadata": {},
   "outputs": [],
   "source": [
    "df2 = df2.withColumn('Last_date', F.split(\"Last_Update\", \" \").getItem(0))"
   ]
  },
  {
   "cell_type": "code",
   "execution_count": 19,
   "id": "87d4836f",
   "metadata": {},
   "outputs": [],
   "source": [
    "# df2 = df2 \\\n",
    "#         .withColumn(\"Last_date\", \n",
    "#         when(length(df2.Last_date)<10,to_date(\"Last_date\", \"MM/d/yy\"))\n",
    "#         .otherwise(to_date(\"Last_date\", \"yyyy-MM-dd\")))\n",
    "\n",
    "df2=df2.filter(length(df2.Last_date)==10)\n"
   ]
  },
  {
   "cell_type": "code",
   "execution_count": 20,
   "id": "85d3204a",
   "metadata": {},
   "outputs": [
    {
     "data": {
      "text/plain": [
       "[Row(FIPS=None, Admin2=None, Province_State=None, Country_Region='United Arab Emirates', Last_Update='2020-03-31 23:43:43', Lat='23.424076', Long_='53.847818000000004', Confirmed='664', Deaths='6', Recovered='61', Active='597', Combined_Key='United Arab Emirates', Incident_Rate=None, Case_Fatality_Ratio=None, CaseFatalityRatio=0.9036144578313252, Incidence_Rate=0.0, Last_date='2020-03-31'),\n",
       " Row(FIPS=None, Admin2=None, Province_State=None, Country_Region='United Kingdom', Last_Update='2020-03-31 23:43:43', Lat='55.3781', Long_='-3.4360000000000004', Confirmed='25150', Deaths='1789', Recovered='135', Active='23226', Combined_Key='United Kingdom', Incident_Rate=None, Case_Fatality_Ratio=None, CaseFatalityRatio=7.113320079522863, Incidence_Rate=0.0, Last_date='2020-03-31'),\n",
       " Row(FIPS=None, Admin2=None, Province_State=None, Country_Region='Uruguay', Last_Update='2020-03-31 23:43:43', Lat='-32.5228', Long_='-55.7658', Confirmed='338', Deaths='1', Recovered='41', Active='296', Combined_Key='Uruguay', Incident_Rate=None, Case_Fatality_Ratio=None, CaseFatalityRatio=0.2958579881656805, Incidence_Rate=0.0, Last_date='2020-03-31'),\n",
       " Row(FIPS=None, Admin2=None, Province_State=None, Country_Region='Uzbekistan', Last_Update='2020-03-31 23:43:43', Lat='41.377491', Long_='64.585262', Confirmed='172', Deaths='2', Recovered='7', Active='163', Combined_Key='Uzbekistan', Incident_Rate=None, Case_Fatality_Ratio=None, CaseFatalityRatio=1.1627906976744187, Incidence_Rate=0.0, Last_date='2020-03-31'),\n",
       " Row(FIPS=None, Admin2=None, Province_State=None, Country_Region='Venezuela', Last_Update='2020-03-31 23:43:43', Lat='6.4238', Long_='-66.5897', Confirmed='135', Deaths='3', Recovered='39', Active='93', Combined_Key='Venezuela', Incident_Rate=None, Case_Fatality_Ratio=None, CaseFatalityRatio=2.2222222222222223, Incidence_Rate=0.0, Last_date='2020-03-31'),\n",
       " Row(FIPS=None, Admin2=None, Province_State=None, Country_Region='Vietnam', Last_Update='2020-03-31 23:43:43', Lat='14.058323999999999', Long_='108.277199', Confirmed='212', Deaths='0', Recovered='58', Active='154', Combined_Key='Vietnam', Incident_Rate=None, Case_Fatality_Ratio=None, CaseFatalityRatio=0.0, Incidence_Rate=0.0, Last_date='2020-03-31'),\n",
       " Row(FIPS=None, Admin2=None, Province_State=None, Country_Region='West Bank and Gaza', Last_Update='2020-03-31 23:43:43', Lat='31.9522', Long_='35.2332', Confirmed='119', Deaths='1', Recovered='18', Active='100', Combined_Key='West Bank and Gaza', Incident_Rate=None, Case_Fatality_Ratio=None, CaseFatalityRatio=0.8403361344537815, Incidence_Rate=0.0, Last_date='2020-03-31'),\n",
       " Row(FIPS=None, Admin2=None, Province_State=None, Country_Region='Zambia', Last_Update='2020-03-31 23:43:43', Lat='-13.133897', Long_='27.849332', Confirmed='35', Deaths='0', Recovered='0', Active='35', Combined_Key='Zambia', Incident_Rate=None, Case_Fatality_Ratio=None, CaseFatalityRatio=0.0, Incidence_Rate=0.0, Last_date='2020-03-31'),\n",
       " Row(FIPS=None, Admin2=None, Province_State=None, Country_Region='Zimbabwe', Last_Update='2020-03-31 23:43:43', Lat='-19.015438', Long_='29.154857', Confirmed='8', Deaths='1', Recovered='0', Active='7', Combined_Key='Zimbabwe', Incident_Rate=None, Case_Fatality_Ratio=None, CaseFatalityRatio=12.5, Incidence_Rate=0.0, Last_date='2020-03-31'),\n",
       " Row(FIPS=None, Admin2=None, Province_State='Unknown', Country_Region='China', Last_Update='2020-03-31 23:43:56', Lat=None, Long_=None, Confirmed='0', Deaths='0', Recovered='0', Active='0', Combined_Key='Unknown, China', Incident_Rate=None, Case_Fatality_Ratio=None, CaseFatalityRatio=None, Incidence_Rate=0.0, Last_date='2020-03-31')]"
      ]
     },
     "execution_count": 20,
     "metadata": {},
     "output_type": "execute_result"
    }
   ],
   "source": [
    "df2.tail(10)"
   ]
  },
  {
   "cell_type": "code",
   "execution_count": 22,
   "id": "23434981",
   "metadata": {},
   "outputs": [],
   "source": [
    "df2 = df2 \\\n",
    "        .withColumn(\"Last_up\", to_date(\"Last_date\", \"yyyy-MM-dd\"))\n",
    "        #.drop(\"Last_up\")"
   ]
  },
  {
   "cell_type": "code",
   "execution_count": 23,
   "id": "9036e98f",
   "metadata": {},
   "outputs": [],
   "source": [
    "# df2 = df2 \\\n",
    "#         .withColumn(\"Last_up\", \n",
    "#         when(df2[\"Last_up\"].isNull(), to_timestamp(\"Last_Update\", \"MM/d/yy HH:mm\"))\n",
    "#         .otherwise(df2[\"Last_up\"]))"
   ]
  },
  {
   "cell_type": "code",
   "execution_count": 24,
   "id": "34b432aa",
   "metadata": {},
   "outputs": [],
   "source": [
    "df2 = df2 \\\n",
    "        .withColumn(\"Year\", date_format(col(\"Last_up\"), \"yyyy\")) \\\n",
    "        .withColumn(\"Month\", date_format(col(\"Last_up\"), \"MM\")) \\\n",
    "        .withColumn(\"Day\", date_format(col(\"Last_up\"), \"dd\")) \\\n",
    "        .withColumn(\"Datekey\", date_format(col(\"Last_Up\"), \"yyyyMMdd\")) \\\n",
    "        .withColumn(\"newDate\", date_format(col(\"Last_Up\"), \"yyyy-MM-dd\"))\n",
    "        #.drop(\"Last_up\")"
   ]
  },
  {
   "cell_type": "code",
   "execution_count": 25,
   "id": "68d5de30",
   "metadata": {},
   "outputs": [],
   "source": [
    "df2 = df2 \\\n",
    "        .withColumn(\"Combined_Key2\", \n",
    "                    trim(concat_ws(', ',trim(df2['Province_State']),trim(df2['Country_Region']))))"
   ]
  },
  {
   "cell_type": "code",
   "execution_count": 26,
   "id": "3afcbca2",
   "metadata": {},
   "outputs": [
    {
     "name": "stdout",
     "output_type": "stream",
     "text": [
      "root\n",
      " |-- FIPS: string (nullable = true)\n",
      " |-- Admin2: string (nullable = true)\n",
      " |-- Province_State: string (nullable = true)\n",
      " |-- Country_Region: string (nullable = true)\n",
      " |-- Last_Update: string (nullable = true)\n",
      " |-- Lat: string (nullable = true)\n",
      " |-- Long_: string (nullable = true)\n",
      " |-- Confirmed: string (nullable = true)\n",
      " |-- Deaths: string (nullable = true)\n",
      " |-- Recovered: string (nullable = true)\n",
      " |-- Active: string (nullable = true)\n",
      " |-- Combined_Key: string (nullable = true)\n",
      " |-- Incident_Rate: string (nullable = true)\n",
      " |-- Case_Fatality_Ratio: string (nullable = true)\n",
      " |-- CaseFatalityRatio: double (nullable = true)\n",
      " |-- Incidence_Rate: double (nullable = false)\n",
      " |-- Last_date: date (nullable = true)\n",
      " |-- Last_up: date (nullable = true)\n",
      " |-- Year: string (nullable = true)\n",
      " |-- Month: string (nullable = true)\n",
      " |-- Day: string (nullable = true)\n",
      " |-- Datekey: string (nullable = true)\n",
      " |-- newDate: string (nullable = true)\n",
      " |-- Combined_Key2: string (nullable = false)\n",
      "\n"
     ]
    }
   ],
   "source": [
    "df2.printSchema()"
   ]
  },
  {
   "cell_type": "code",
   "execution_count": null,
   "id": "7be71ddf",
   "metadata": {},
   "outputs": [],
   "source": [
    "test = df2.filter(F.col(\"Country_Region\").isin(['Afghanistan']))\n",
    "#print(df2.loc[df2['Country_Region'] == 'Afghanistan'])"
   ]
  },
  {
   "cell_type": "code",
   "execution_count": null,
   "id": "e3d0cd32",
   "metadata": {},
   "outputs": [],
   "source": [
    "test.tail(5)"
   ]
  },
  {
   "cell_type": "code",
   "execution_count": 27,
   "id": "41b1a6c7",
   "metadata": {},
   "outputs": [
    {
     "data": {
      "text/plain": [
       "[Row(FIPS=None, Admin2=None, Province_State=None, Country_Region='Afghanistan', Last_Update='2021-02-27 05:22:28', Lat='33.93911', Long_='67.709953', Confirmed='55696', Deaths='2442', Recovered='49285', Active='3969', Combined_Key='Afghanistan', Incident_Rate='143.0731404659654', Case_Fatality_Ratio='4.384515943694341', CaseFatalityRatio=4.384515943694341, Incidence_Rate=0.0, Last_date=datetime.date(2021, 2, 27), Last_up=datetime.date(2021, 2, 27), Year='2021', Month='02', Day='27', Datekey='20210227', newDate='2021-02-27', Combined_Key2='Afghanistan')]"
      ]
     },
     "execution_count": 27,
     "metadata": {},
     "output_type": "execute_result"
    }
   ],
   "source": [
    "df2.head(1)"
   ]
  },
  {
   "cell_type": "code",
   "execution_count": 28,
   "id": "5d02d980",
   "metadata": {},
   "outputs": [],
   "source": [
    "df_final = df2.select(\n",
    "                 col('Datekey'), \\\n",
    "                 col('Year'), \\\n",
    "                 col('Month'), \\\n",
    "                 col('Day'), \\\n",
    "                 col('Province_State').alias('State'), \\\n",
    "                 col('Country_Region').alias('Country'), \\\n",
    "                 col('newDate'), \\\n",
    "                 col('Lat').alias('Latitude'), \\\n",
    "                 col('Long_').alias('Longitude'), \\\n",
    "                 col('Confirmed'), \\\n",
    "                 col('Deaths'), \\\n",
    "                 col('Recovered'), \\\n",
    "                 col('Active'), \\\n",
    "                 col('Incidence_Rate'), \\\n",
    "                 col('CaseFatalityRatio'), \\\n",
    "                 col('Combined_Key2'))"
   ]
  },
  {
   "cell_type": "code",
   "execution_count": 29,
   "id": "5de9c303",
   "metadata": {},
   "outputs": [],
   "source": [
    "df_final = df_final.orderBy(['Country','State','Datekey'], ascending=True)"
   ]
  },
  {
   "cell_type": "code",
   "execution_count": 30,
   "id": "1dc40ae4",
   "metadata": {},
   "outputs": [
    {
     "name": "stdout",
     "output_type": "stream",
     "text": [
      "root\n",
      " |-- Datekey: string (nullable = true)\n",
      " |-- Year: string (nullable = true)\n",
      " |-- Month: string (nullable = true)\n",
      " |-- Day: string (nullable = true)\n",
      " |-- State: string (nullable = true)\n",
      " |-- Country: string (nullable = true)\n",
      " |-- newDate: string (nullable = true)\n",
      " |-- Latitude: string (nullable = true)\n",
      " |-- Longitude: string (nullable = true)\n",
      " |-- Confirmed: string (nullable = true)\n",
      " |-- Deaths: string (nullable = true)\n",
      " |-- Recovered: string (nullable = true)\n",
      " |-- Active: string (nullable = true)\n",
      " |-- Incidence_Rate: double (nullable = false)\n",
      " |-- CaseFatalityRatio: double (nullable = true)\n",
      " |-- Combined_Key2: string (nullable = false)\n",
      "\n"
     ]
    }
   ],
   "source": [
    "df_final.printSchema()"
   ]
  },
  {
   "cell_type": "code",
   "execution_count": 31,
   "id": "83563d7a",
   "metadata": {},
   "outputs": [
    {
     "data": {
      "text/plain": [
       "[Row(Datekey='20200324', Year='2020', Month='03', Day='24', State=None, Country='Afghanistan', newDate='2020-03-24', Latitude='33.93911', Longitude='67.709953', Confirmed='43', Deaths='1', Recovered='1', Active='72', Incidence_Rate=0.0, CaseFatalityRatio=2.3255813953488373, Combined_Key2='Afghanistan'),\n",
       " Row(Datekey='20200325', Year='2020', Month='03', Day='25', State=None, Country='Afghanistan', newDate='2020-03-25', Latitude='33.93911', Longitude='67.709953', Confirmed='76', Deaths='2', Recovered='2', Active='80', Incidence_Rate=0.0, CaseFatalityRatio=2.631578947368421, Combined_Key2='Afghanistan'),\n",
       " Row(Datekey='20200326', Year='2020', Month='03', Day='26', State=None, Country='Afghanistan', newDate='2020-03-26', Latitude='33.93911', Longitude='67.709953', Confirmed='80', Deaths='3', Recovered='2', Active='88', Incidence_Rate=0.0, CaseFatalityRatio=3.75, Combined_Key2='Afghanistan'),\n",
       " Row(Datekey='20200327', Year='2020', Month='03', Day='27', State=None, Country='Afghanistan', newDate='2020-03-27', Latitude='33.93911', Longitude='67.709953', Confirmed='91', Deaths='3', Recovered='2', Active='104', Incidence_Rate=0.0, CaseFatalityRatio=3.296703296703297, Combined_Key2='Afghanistan'),\n",
       " Row(Datekey='20200331', Year='2020', Month='03', Day='31', State=None, Country='Afghanistan', newDate='2020-03-31', Latitude='33.93911', Longitude='67.709953', Confirmed='175', Deaths='4', Recovered='5', Active='165', Incidence_Rate=0.0, CaseFatalityRatio=2.2857142857142856, Combined_Key2='Afghanistan'),\n",
       " Row(Datekey='20200401', Year='2020', Month='04', Day='01', State=None, Country='Afghanistan', newDate='2020-04-01', Latitude='33.93911', Longitude='67.709953', Confirmed='197', Deaths='4', Recovered='5', Active='228', Incidence_Rate=0.0, CaseFatalityRatio=2.030456852791878, Combined_Key2='Afghanistan'),\n",
       " Row(Datekey='20200403', Year='2020', Month='04', Day='03', State=None, Country='Afghanistan', newDate='2020-04-03', Latitude='33.93911', Longitude='67.709953', Confirmed='275', Deaths='8', Recovered='10', Active='265', Incidence_Rate=0.0, CaseFatalityRatio=2.909090909090909, Combined_Key2='Afghanistan'),\n",
       " Row(Datekey='20200405', Year='2020', Month='04', Day='05', State=None, Country='Afghanistan', newDate='2020-04-05', Latitude='33.93911', Longitude='67.709953', Confirmed='338', Deaths='12', Recovered='15', Active='327', Incidence_Rate=0.0, CaseFatalityRatio=3.5502958579881656, Combined_Key2='Afghanistan'),\n",
       " Row(Datekey='20200407', Year='2020', Month='04', Day='07', State=None, Country='Afghanistan', newDate='2020-04-07', Latitude='33.93911', Longitude='67.709953', Confirmed='424', Deaths='16', Recovered='18', Active='391', Incidence_Rate=0.0, CaseFatalityRatio=3.7735849056603774, Combined_Key2='Afghanistan'),\n",
       " Row(Datekey='20200408', Year='2020', Month='04', Day='08', State=None, Country='Afghanistan', newDate='2020-04-08', Latitude='33.93911', Longitude='67.709953', Confirmed='445', Deaths='16', Recovered='29', Active='401', Incidence_Rate=0.0, CaseFatalityRatio=3.5955056179775284, Combined_Key2='Afghanistan')]"
      ]
     },
     "execution_count": 31,
     "metadata": {},
     "output_type": "execute_result"
    }
   ],
   "source": [
    "df_final.head(10)"
   ]
  },
  {
   "cell_type": "code",
   "execution_count": null,
   "id": "ce383b77",
   "metadata": {},
   "outputs": [],
   "source": [
    "# output_schema = StructType() \\\n",
    "#       .add(\"State\",StringType(),True) \\\n",
    "#       .add(\"Country\",StringType(),True) \\\n",
    "#       .add(\"Date\",DateType(),True) \\\n",
    "#       .add(\"Latitude\",DoubleType(),True) \\\n",
    "#       .add(\"Longitude\",DoubleType(),True) \\\n",
    "#       .add(\"Confirmed\",IntegerType(),True) \\\n",
    "#       .add(\"Deaths\",IntegerType(),True) \\\n",
    "#       .add(\"Recovered\",IntegerType(),True) \\\n",
    "#       .add(\"Active\",IntegerType(),True) \\\n",
    "#       .add(\"IncidentRate\",DoubleType(),True) \\\n",
    "#       .add(\"CaseFatalityRatio\",DoubleType(),True) \\\n",
    "#       .add(\"CombinedKey\",StringType(),True)"
   ]
  },
  {
   "cell_type": "code",
   "execution_count": null,
   "id": "ae953a79",
   "metadata": {},
   "outputs": [],
   "source": []
  },
  {
   "cell_type": "code",
   "execution_count": null,
   "id": "626fe8d3",
   "metadata": {},
   "outputs": [],
   "source": [
    "# df2.write \\\n",
    "#     .mode(\"overwrite\") \\\n",
    "#     .partitionBy(\"Year\", \"Month\", \"Day\", \"Country\") \\\n",
    "#     .parquet('out/curated/')"
   ]
  },
  {
   "cell_type": "code",
   "execution_count": 33,
   "id": "ffce0152",
   "metadata": {},
   "outputs": [],
   "source": [
    "df_final.write \\\n",
    "    .format(\"com.databricks.spark.csv\") \\\n",
    "    .mode(\"overwrite\") \\\n",
    "    .option(\"header\",False) \\\n",
    "    .option(\"escape\", \"\") \\\n",
    "    .option(\"quote\", \"\") \\\n",
    "    .option(\"emptyValue\", \"\") \\\n",
    "    .option(\"delimiter\", \";\") \\\n",
    "    .save(\"out/processed\")"
   ]
  },
  {
   "cell_type": "code",
   "execution_count": null,
   "id": "c96b9b25",
   "metadata": {},
   "outputs": [],
   "source": []
  }
 ],
 "metadata": {
  "kernelspec": {
   "display_name": "Python 3",
   "language": "python",
   "name": "python3"
  },
  "language_info": {
   "codemirror_mode": {
    "name": "ipython",
    "version": 3
   },
   "file_extension": ".py",
   "mimetype": "text/x-python",
   "name": "python",
   "nbconvert_exporter": "python",
   "pygments_lexer": "ipython3",
   "version": "3.9.1"
  }
 },
 "nbformat": 4,
 "nbformat_minor": 5
}
