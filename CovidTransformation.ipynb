{
 "cells": [
  {
   "cell_type": "code",
   "execution_count": 47,
   "id": "6556a777",
   "metadata": {},
   "outputs": [],
   "source": [
    "import pandas as pd\n",
    "from pyspark.sql import SparkSession\n",
    "from pyspark.sql.functions import when"
   ]
  },
  {
   "cell_type": "code",
   "execution_count": 23,
   "id": "7ab18763",
   "metadata": {},
   "outputs": [],
   "source": [
    "spark = SparkSession \\\n",
    "        .builder \\\n",
    "        .appName(\"Spark Covid Earlier Transformations\") \\\n",
    "        .getOrCreate()"
   ]
  },
  {
   "cell_type": "code",
   "execution_count": 40,
   "id": "83f038dd",
   "metadata": {},
   "outputs": [],
   "source": [
    "# Load dataset from Johns Hopkins University Github page\n",
    "# with command pd.read_csv(\"datafile.csv\")\n",
    "#covid_daily_report = pd.read_csv(\"data/01-23-2020.csv\")\n",
    "covid_daily_report = spark.read.option(\"inferSchema\",True) \\\n",
    "                    .option(\"header\",True) \\\n",
    "                    .csv(\"data/01-23-2021.csv\")"
   ]
  },
  {
   "cell_type": "code",
   "execution_count": 41,
   "id": "3a8f6fc5",
   "metadata": {},
   "outputs": [],
   "source": [
    "covid_daily_report.createOrReplaceTempView(\"cases_table\")"
   ]
  },
  {
   "cell_type": "code",
   "execution_count": 42,
   "id": "9888ea91",
   "metadata": {},
   "outputs": [
    {
     "name": "stdout",
     "output_type": "stream",
     "text": [
      "root\n",
      " |-- FIPS: integer (nullable = true)\n",
      " |-- Admin2: string (nullable = true)\n",
      " |-- Province_State: string (nullable = true)\n",
      " |-- Country_Region: string (nullable = true)\n",
      " |-- Last_Update: string (nullable = true)\n",
      " |-- Lat: double (nullable = true)\n",
      " |-- Long_: double (nullable = true)\n",
      " |-- Confirmed: integer (nullable = true)\n",
      " |-- Deaths: integer (nullable = true)\n",
      " |-- Recovered: integer (nullable = true)\n",
      " |-- Active: integer (nullable = true)\n",
      " |-- Combined_Key: string (nullable = true)\n",
      " |-- Incident_Rate: double (nullable = true)\n",
      " |-- Case_Fatality_Ratio: double (nullable = true)\n",
      "\n"
     ]
    }
   ],
   "source": [
    "covid_daily_report.printSchema()"
   ]
  },
  {
   "cell_type": "markdown",
   "id": "0c5fbe29",
   "metadata": {},
   "source": [
    "### JHU changed the dataset schema during the time\n",
    "*Initial schema: Province/State,Country/Region,Last Update,Confirmed,Deaths,Recovered*\n",
    "\n",
    "*Second schema: FIPS,Admin2,Province_State,Country_Region,Last_Update,Lat,Long_,Confirmed,Deaths,Recovered,Active,Combined_Key*\n",
    "\n",
    "*Third schema: Province/State,Country/Region,Last Update,Confirmed,Deaths,Recovered,Latitude,Longitude*\n",
    "\n",
    "*Forth schema: FIPS,Admin2,Province_State,Country_Region,Last_Update,Lat,Long_,Confirmed,Deaths,Recovered,Active,Combined_Key,Incidence_Rate,Case-Fatality_Ratio*"
   ]
  },
  {
   "cell_type": "code",
   "execution_count": 32,
   "id": "f2c9283e",
   "metadata": {},
   "outputs": [
    {
     "name": "stdout",
     "output_type": "stream",
     "text": [
      "+-------+-----+\n",
      "|Country|State|\n",
      "+-------+-----+\n",
      "|      1|    1|\n",
      "+-------+-----+\n",
      "\n"
     ]
    }
   ],
   "source": [
    "spark.sql(\"SELECT COUNT(DISTINCT 'Country/Region') AS Country, COUNT(DISTINCT 'Province/State') AS State \\\n",
    "            FROM cases_table\").show()"
   ]
  },
  {
   "cell_type": "code",
   "execution_count": 46,
   "id": "1c18fad1",
   "metadata": {},
   "outputs": [
    {
     "name": "stdout",
     "output_type": "stream",
     "text": [
      "['FIPS', 'Admin2', 'Province_State', 'Country_Region', 'Last_Update', 'Lat', 'Long_', 'Confirmed', 'Deaths', 'Recovered', 'Active', 'Combined_Key', 'Incident_Rate', 'Case_Fatality_Ratio']\n"
     ]
    },
    {
     "data": {
      "text/plain": [
       "pyspark.sql.dataframe.DataFrame"
      ]
     },
     "execution_count": 46,
     "metadata": {},
     "output_type": "execute_result"
    }
   ],
   "source": [
    "print((str(covid_daily_report.columns)))\n",
    "type(covid_daily_report)\n"
   ]
  },
  {
   "cell_type": "code",
   "execution_count": 55,
   "id": "532996d1",
   "metadata": {},
   "outputs": [],
   "source": [
    "df2= covid_daily_report.withColumn(\"Country_Region\", when(\n",
    "                covid_daily_report[\"Country_Region\"].contains(\"China\"),\n",
    "                \"China\").otherwise(covid_daily_report[\"Country_Region\"]))"
   ]
  },
  {
   "cell_type": "code",
   "execution_count": 58,
   "id": "5ad6d88c",
   "metadata": {},
   "outputs": [
    {
     "data": {
      "text/plain": [
       "[Row(FIPS=None, Admin2=None, Province_State=None, Country_Region='Afghanistan', Last_Update='2021-01-24 05:22:35', Lat=33.93911, Long_=67.709953, Confirmed=54559, Deaths=2373, Recovered=46943, Active=5243, Combined_Key='Afghanistan', Incident_Rate=140.15238923230766, Case_Fatality_Ratio=4.349419894059642),\n",
       " Row(FIPS=None, Admin2=None, Province_State=None, Country_Region='Albania', Last_Update='2021-01-24 05:22:35', Lat=41.1533, Long_=20.1683, Confirmed=71441, Deaths=1310, Recovered=43384, Active=26747, Combined_Key='Albania', Incident_Rate=2482.4866217249287, Case_Fatality_Ratio=1.833680939516524),\n",
       " Row(FIPS=None, Admin2=None, Province_State=None, Country_Region='Algeria', Last_Update='2021-01-24 05:22:35', Lat=28.0339, Long_=1.6596, Confirmed=105369, Deaths=2861, Recovered=71755, Active=30753, Combined_Key='Algeria', Incident_Rate=240.28846930733206, Case_Fatality_Ratio=2.7152198464444),\n",
       " Row(FIPS=None, Admin2=None, Province_State=None, Country_Region='Andorra', Last_Update='2021-01-24 05:22:35', Lat=42.5063, Long_=1.5218, Confirmed=9499, Deaths=96, Recovered=8588, Active=815, Combined_Key='Andorra', Incident_Rate=12294.052934705236, Case_Fatality_Ratio=1.0106326981787557),\n",
       " Row(FIPS=None, Admin2=None, Province_State=None, Country_Region='Angola', Last_Update='2021-01-24 05:22:35', Lat=-11.2027, Long_=17.8739, Confirmed=19367, Deaths=457, Recovered=17249, Active=1661, Combined_Key='Angola', Incident_Rate=58.92667825869368, Case_Fatality_Ratio=2.359683998554242),\n",
       " Row(FIPS=None, Admin2=None, Province_State=None, Country_Region='Antigua and Barbuda', Last_Update='2021-01-24 05:22:35', Lat=17.0608, Long_=-61.7964, Confirmed=195, Deaths=6, Recovered=162, Active=27, Combined_Key='Antigua and Barbuda', Incident_Rate=199.12588840780984, Case_Fatality_Ratio=3.076923076923077),\n",
       " Row(FIPS=None, Admin2=None, Province_State=None, Country_Region='Argentina', Last_Update='2021-01-24 05:22:35', Lat=-38.4161, Long_=-63.6167, Confirmed=1862192, Deaths=46737, Recovered=1646668, Active=168787, Combined_Key='Argentina', Incident_Rate=4120.278759672613, Case_Fatality_Ratio=2.5097841683349515),\n",
       " Row(FIPS=None, Admin2=None, Province_State=None, Country_Region='Armenia', Last_Update='2021-01-24 05:22:35', Lat=40.0691, Long_=45.0382, Confirmed=165909, Deaths=3034, Recovered=154535, Active=8340, Combined_Key='Armenia', Incident_Rate=5598.9165891050125, Case_Fatality_Ratio=1.828713330801825),\n",
       " Row(FIPS=None, Admin2=None, Province_State='Australian Capital Territory', Country_Region='Australia', Last_Update='2021-01-24 05:22:35', Lat=-35.4735, Long_=149.0124, Confirmed=118, Deaths=3, Recovered=115, Active=0, Combined_Key='Australian Capital Territory, Australia', Incident_Rate=27.563653352020555, Case_Fatality_Ratio=2.542372881355932),\n",
       " Row(FIPS=None, Admin2=None, Province_State='New South Wales', Country_Region='Australia', Last_Update='2021-01-24 05:22:35', Lat=-33.8688, Long_=151.2093, Confirmed=5087, Deaths=54, Recovered=0, Active=1796, Combined_Key='New South Wales, Australia', Incident_Rate=62.66321754126632, Case_Fatality_Ratio=1.061529388637704)]"
      ]
     },
     "execution_count": 58,
     "metadata": {},
     "output_type": "execute_result"
    }
   ],
   "source": [
    "df2.head(10)"
   ]
  },
  {
   "cell_type": "code",
   "execution_count": null,
   "id": "f3c44f27",
   "metadata": {},
   "outputs": [],
   "source": []
  }
 ],
 "metadata": {
  "kernelspec": {
   "display_name": "Python 3",
   "language": "python",
   "name": "python3"
  },
  "language_info": {
   "codemirror_mode": {
    "name": "ipython",
    "version": 3
   },
   "file_extension": ".py",
   "mimetype": "text/x-python",
   "name": "python",
   "nbconvert_exporter": "python",
   "pygments_lexer": "ipython3",
   "version": "3.9.1"
  }
 },
 "nbformat": 4,
 "nbformat_minor": 5
}
